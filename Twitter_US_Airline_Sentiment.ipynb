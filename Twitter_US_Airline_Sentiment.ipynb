{
 "cells": [
  {
   "cell_type": "markdown",
   "metadata": {
    "_cell_guid": "02bcad77-7615-476a-996d-06b867f9bf82",
    "_uuid": "ac0125127a55e4d120e4de2a056c584aeb0a0e99"
   },
   "source": [
    "# Introduction\n",
    "In this notebook I will explore techniques to use text data as input for a classification. The [Twitter US Airline Sentiment data set](https://www.kaggle.com/crowdflower/twitter-airline-sentiment) looks like a nice data set to work with. So let's take off!"
   ]
  },
  {
   "cell_type": "markdown",
   "metadata": {
    "_cell_guid": "d7e01705-75cb-480b-b9c6-ca9edf5334b1",
    "_uuid": "bef30704a2c497f940d64b4486508903444f295e"
   },
   "source": [
    "# Importing modules"
   ]
  },
  {
   "cell_type": "code",
   "execution_count": 29,
   "metadata": {
    "_cell_guid": "21cee267-f257-4ba3-88e1-d22e2fc57c7e",
    "_uuid": "2fec7805d8d0e999fc405d136beff46ac331b963"
   },
   "outputs": [
    {
     "name": "stderr",
     "output_type": "stream",
     "text": [
      "C:\\Users\\Tarun Makkar\\Anaconda3\\envs\\keras-gpu\\lib\\site-packages\\ipykernel_launcher.py:3: FutureWarning: Passing a negative integer is deprecated in version 1.0 and will not be supported in future version. Instead, use None to not limit the column width.\n",
      "  This is separate from the ipykernel package so we can avoid doing imports until\n",
      "C:\\Users\\Tarun Makkar\\Anaconda3\\envs\\keras-gpu\\lib\\site-packages\\sklearn\\externals\\joblib\\__init__.py:15: FutureWarning: sklearn.externals.joblib is deprecated in 0.21 and will be removed in 0.23. Please import this functionality directly from joblib, which can be installed with: pip install joblib. If this warning is raised when loading pickled models, you may need to re-serialize those models with scikit-learn 0.21+.\n",
      "  warnings.warn(msg, category=FutureWarning)\n",
      "C:\\Users\\Tarun Makkar\\Anaconda3\\envs\\keras-gpu\\lib\\site-packages\\scipy\\sparse\\sparsetools.py:21: DeprecationWarning: `scipy.sparse.sparsetools` is deprecated!\n",
      "scipy.sparse.sparsetools is a private module for scipy.sparse, and should not be used.\n",
      "  _deprecated()\n",
      "C:\\Users\\Tarun Makkar\\Anaconda3\\envs\\keras-gpu\\lib\\site-packages\\nltk\\decorators.py:68: DeprecationWarning: `formatargspec` is deprecated since Python 3.5. Use `signature` and the `Signature` object directly\n",
      "  regargs, varargs, varkwargs, defaults, formatvalue=lambda value: \"\"\n"
     ]
    }
   ],
   "source": [
    "import numpy as np \n",
    "import pandas as pd \n",
    "pd.set_option('display.max_colwidth', -1)\n",
    "from time import time\n",
    "import re\n",
    "import string\n",
    "import os\n",
    "import emoji\n",
    "from pprint import pprint\n",
    "import collections\n",
    "\n",
    "import matplotlib.pyplot as plt\n",
    "import seaborn as sns\n",
    "sns.set(style=\"darkgrid\")\n",
    "sns.set(font_scale=1.3)\n",
    "\n",
    "from sklearn.base import BaseEstimator, TransformerMixin\n",
    "from sklearn.feature_extraction.text import CountVectorizer\n",
    "from sklearn.feature_extraction.text import TfidfVectorizer\n",
    "from sklearn.model_selection import GridSearchCV\n",
    "from sklearn.model_selection import train_test_split\n",
    "from sklearn.pipeline import Pipeline, FeatureUnion\n",
    "from sklearn.metrics import classification_report\n",
    "\n",
    "from sklearn.naive_bayes import MultinomialNB\n",
    "from sklearn.linear_model import LogisticRegression\n",
    "from sklearn.externals import joblib\n",
    "\n",
    "import gensim\n",
    "\n",
    "from nltk.corpus import stopwords\n",
    "from nltk.stem import PorterStemmer\n",
    "from nltk.tokenize import word_tokenize\n",
    "\n",
    "import warnings\n",
    "warnings.filterwarnings('ignore')\n",
    "\n",
    "np.random.seed(37)"
   ]
  },
  {
   "cell_type": "markdown",
   "metadata": {
    "_cell_guid": "70ef7b60-cc3a-43ff-9cec-a3e9e1638af4",
    "_uuid": "f60c7c8463a6c6143608f055a4c3ba9ba3c4a4c6"
   },
   "source": [
    "# Loading the data\n",
    "We shuffle the data frame in case the classes would be sorted. This can be done with the **reindex** method applied on the **permutation** of the original indices. In this notebook we will only focus on the text variable and the class variable."
   ]
  },
  {
   "cell_type": "code",
   "execution_count": 2,
   "metadata": {
    "_cell_guid": "4d569df8-dbb0-49e8-afcd-2a464af497ce",
    "_uuid": "cb12f1648e335f18109757da2f90a99afc35a754"
   },
   "outputs": [],
   "source": [
    "df = pd.read_csv('./Tweets.csv')\n",
    "df = df.reindex(np.random.permutation(df.index))  \n",
    "df = df[['text', 'airline_sentiment']]"
   ]
  },
  {
   "cell_type": "markdown",
   "metadata": {
    "_cell_guid": "9e32eb35-b009-46c3-8fc1-fc5b2b48b6d3",
    "_uuid": "878a5d96c41b5f10158e6c915ee70e9cf1a63cb3"
   },
   "source": [
    "# Exploratory Data Analysis"
   ]
  },
  {
   "cell_type": "markdown",
   "metadata": {
    "_cell_guid": "c727d86e-65cb-4127-b665-54a0886b9fe0",
    "_uuid": "d6755361c07a2d13ef9965acd588c015dd3da916"
   },
   "source": [
    "## Target variable\n",
    "There are three class labels to predict: *negative, neutral or positive*. \n",
    "\n",
    "**CONCLUSION: **The class labels are **imbalanced** as we can see below. This is something that we should keep in mind during the model training phase. We could, for instance, make sure the classes are balanced by up/undersampling."
   ]
  },
  {
   "cell_type": "code",
   "execution_count": 4,
   "metadata": {
    "_cell_guid": "9ac8a71b-adfa-4c54-9283-f09f5ea82089",
    "_uuid": "b91eff31d2a08fce8f7649bdd0656059604ff060"
   },
   "outputs": [
    {
     "data": {
      "image/png": "[encoded data removed]",
      "text/plain": [
       "<Figure size 648x432 with 1 Axes>"
      ]
     },
     "metadata": {
      "needs_background": "light"
     },
     "output_type": "display_data"
    }
   ],
   "source": [
    "sns.factorplot(x=\"airline_sentiment\", data=df, kind=\"count\", size=6, aspect=1.5, palette=\"PuBuGn_d\")\n",
    "plt.show();"
   ]
  },
  {
   "cell_type": "markdown",
   "metadata": {
    "_cell_guid": "a957af2c-5b4e-4cfa-98e2-03d0f81089b0",
    "_uuid": "818dbfec79449a1bebffb8a782587aa6e9b1175a"
   },
   "source": [
    "## Text variable\n",
    "To analyze the text variable we create a class **TextCounts**. In this class we compute some basic statistics on the text variable. This class can be used later in a Pipeline, as well.\n",
    "\n",
    "* **count_words** : number of words in the tweet\n",
    "* **count_mentions** : referrals to other Twitter accounts, which are preceded by a @\n",
    "* **count_hashtags** : number of tag words, preceded by a #\n",
    "* **count_capital_words** : number of uppercase words, could be used to *\"shout\"* and express (negative) emotions\n",
    "* **count_excl_quest_marks** : number of question or exclamation marks\n",
    "* **count_urls** : number of links in the tweet, preceded by http(s)\n",
    "* **count_emojis** : number of emoji, which might be a good indication of the sentiment"
   ]
  },
  {
   "cell_type": "code",
   "execution_count": 5,
   "metadata": {
    "_cell_guid": "12b6b6db-df87-4494-ad89-caa68b14495c",
    "_uuid": "bcc2afba20e5d041359c05ab3d8510716cdfc6dd"
   },
   "outputs": [],
   "source": [
    "class TextCounts(BaseEstimator, TransformerMixin):\n",
    "    \n",
    "    def count_regex(self, pattern, tweet):\n",
    "        return len(re.findall(pattern, tweet))\n",
    "    \n",
    "    def fit(self, X, y=None, **fit_params):\n",
    "        # fit method is used when specific operations need to be done on the train data, but not on the test data\n",
    "        return self\n",
    "    \n",
    "    def transform(self, X, **transform_params):\n",
    "        count_words = X.apply(lambda x: self.count_regex(r'\\w+', x)) \n",
    "        count_mentions = X.apply(lambda x: self.count_regex(r'@\\w+', x))\n",
    "        count_hashtags = X.apply(lambda x: self.count_regex(r'#\\w+', x))\n",
    "        count_capital_words = X.apply(lambda x: self.count_regex(r'\\b[A-Z]{2,}\\b', x))\n",
    "        count_excl_quest_marks = X.apply(lambda x: self.count_regex(r'!|\\?', x))\n",
    "        count_urls = X.apply(lambda x: self.count_regex(r'http.?://[^\\s]+[\\s]?', x))\n",
    "        # We will replace the emoji symbols with a description, which makes using a regex for counting easier\n",
    "        # Moreover, it will result in having more words in the tweet\n",
    "        count_emojis = X.apply(lambda x: emoji.demojize(x)).apply(lambda x: self.count_regex(r':[a-z_&]+:', x))\n",
    "        \n",
    "        df = pd.DataFrame({'count_words': count_words\n",
    "                           , 'count_mentions': count_mentions\n",
    "                           , 'count_hashtags': count_hashtags\n",
    "                           , 'count_capital_words': count_capital_words\n",
    "                           , 'count_excl_quest_marks': count_excl_quest_marks\n",
    "                           , 'count_urls': count_urls\n",
    "                           , 'count_emojis': count_emojis\n",
    "                          })\n",
    "        \n",
    "        return df"
   ]
  },
  {
   "cell_type": "code",
   "execution_count": 6,
   "metadata": {
    "_cell_guid": "4552bc28-6eb1-4f4f-8f73-a129ed0fad2f",
    "_uuid": "75373b34ac6eef2768612e70162caf6b121a4eab"
   },
   "outputs": [],
   "source": [
    "tc = TextCounts()\n",
    "df_eda = tc.fit_transform(df.text)"
   ]
  },
  {
   "cell_type": "markdown",
   "metadata": {
    "_cell_guid": "41a7925a-af42-49c8-99db-aa6e361f6f4d",
    "_uuid": "18f7bdefa9a7fcab78e7e688b04b2d480a84ad66"
   },
   "source": [
    "It could be interesting to see how the TextStats variables relate to the class variable. Therefore we write a function **show_dist** that provides descriptive statistics and a plot per target class."
   ]
  },
  {
   "cell_type": "code",
   "execution_count": 6,
   "metadata": {
    "_cell_guid": "f0351435-3561-42a5-a5e8-55aa7209a964",
    "_uuid": "2ddbab218287cdcaa579764c555571031ffd6ab8"
   },
   "outputs": [],
   "source": [
    "def show_dist(df, col):\n",
    "    print('Descriptive stats for {}'.format(col))\n",
    "    print('-'*(len(col)+22))\n",
    "    print(df.groupby('airline_sentiment')[col].describe())\n",
    "    bins = np.arange(df[col].min(), df[col].max() + 1)\n",
    "    g = sns.FacetGrid(df, col='airline_sentiment', size=5, hue='airline_sentiment', palette=\"PuBuGn_d\")\n",
    "    g = g.map(sns.distplot, col, kde=False, norm_hist=True, bins=bins)\n",
    "    plt.show()"
   ]
  },
  {
   "cell_type": "code",
   "execution_count": 7,
   "metadata": {
    "_cell_guid": "72d53891-ba09-4ec2-aa69-d827125167e5",
    "_uuid": "681fa80920a7a34dc3486675310b7b2c1d4a9ed6"
   },
   "outputs": [],
   "source": [
    "# Add airline_sentiment to df_eda\n",
    "df_eda['airline_sentiment'] = df.airline_sentiment"
   ]
  },
  {
   "cell_type": "code",
   "execution_count": 8,
   "metadata": {
    "_cell_guid": "1d7be179-d38c-4ed0-9c9d-dbacbf43c55d",
    "_uuid": "aa76ec64ad4d4eefcb086870e260bbe8e110f37a"
   },
   "outputs": [
    {
     "name": "stdout",
     "output_type": "stream",
     "text": [
      "Descriptive stats for count_words\n",
      "---------------------------------\n",
      "                    count       mean       std  min   25%   50%   75%   max\n",
      "airline_sentiment                                                          \n",
      "negative           9178.0  20.387557  6.100020  2.0  17.0  22.0  25.0  35.0\n",
      "neutral            3099.0  15.290094  7.150738  2.0  10.0  15.0  21.0  34.0\n",
      "positive           2363.0  14.478206  7.266129  2.0  8.0   14.0  21.0  33.0\n"
     ]
    },
    {
     "data": {
      "image/png": "[encoded data removed]",
      "text/plain": [
       "<Figure size 1080x360 with 3 Axes>"
      ]
     },
     "metadata": {
      "needs_background": "light"
     },
     "output_type": "display_data"
    }
   ],
   "source": [
    "show_dist(df_eda, 'count_words')"
   ]
  },
  {
   "cell_type": "code",
   "execution_count": 9,
   "metadata": {
    "_cell_guid": "16de18c8-b2f9-4621-8a3f-40c58b851c8c",
    "_uuid": "93716e6681e5819a6e72ff56d9837e2271ba4929"
   },
   "outputs": [
    {
     "name": "stdout",
     "output_type": "stream",
     "text": [
      "Descriptive stats for count_mentions\n",
      "------------------------------------\n",
      "                    count      mean       std  min  25%  50%  75%  max\n",
      "airline_sentiment                                                     \n",
      "negative           9178.0  1.111244  0.365420  1.0  1.0  1.0  1.0  6.0\n",
      "neutral            3099.0  1.167473  0.480102  1.0  1.0  1.0  1.0  5.0\n",
      "positive           2363.0  1.138383  0.432462  1.0  1.0  1.0  1.0  6.0\n"
     ]
    },
    {
     "data": {
      "image/png": "[encoded data removed]",
      "text/plain": [
       "<Figure size 1080x360 with 3 Axes>"
      ]
     },
     "metadata": {
      "needs_background": "light"
     },
     "output_type": "display_data"
    }
   ],
   "source": [
    "show_dist(df_eda, 'count_mentions')"
   ]
  },
  {
   "cell_type": "code",
   "execution_count": 10,
   "metadata": {
    "_cell_guid": "d81673f2-6886-4a24-ac04-15af7e921299",
    "_uuid": "240fb548e872ba664ba0261393792225aa1b1be0"
   },
   "outputs": [
    {
     "name": "stdout",
     "output_type": "stream",
     "text": [
      "Descriptive stats for count_hashtags\n",
      "------------------------------------\n",
      "                    count      mean       std  min  25%  50%  75%  max\n",
      "airline_sentiment                                                     \n",
      "negative           9178.0  0.233384  0.615099  0.0  0.0  0.0  0.0  6.0\n",
      "neutral            3099.0  0.212004  0.666382  0.0  0.0  0.0  0.0  6.0\n",
      "positive           2363.0  0.297503  0.774776  0.0  0.0  0.0  0.0  8.0\n"
     ]
    },
    {
     "data": {
      "image/png": "[encoded data removed]",
      "text/plain": [
       "<Figure size 1080x360 with 3 Axes>"
      ]
     },
     "metadata": {
      "needs_background": "light"
     },
     "output_type": "display_data"
    }
   ],
   "source": [
    "show_dist(df_eda, 'count_hashtags')"
   ]
  },
  {
   "cell_type": "code",
   "execution_count": 11,
   "metadata": {
    "_cell_guid": "e0d9c23e-03f7-4df4-a199-3b8f41f0e395",
    "_uuid": "26238a6baf1ad6bf3e3b30a32f8c4ecd1c54fff5"
   },
   "outputs": [
    {
     "name": "stdout",
     "output_type": "stream",
     "text": [
      "Descriptive stats for count_capital_words\n",
      "-----------------------------------------\n",
      "                    count      mean       std  min  25%  50%  75%   max\n",
      "airline_sentiment                                                      \n",
      "negative           9178.0  0.429070  1.019710  0.0  0.0  0.0  1.0  22.0\n",
      "neutral            3099.0  0.462085  0.939468  0.0  0.0  0.0  1.0  11.0\n",
      "positive           2363.0  0.461278  1.234078  0.0  0.0  0.0  1.0  20.0\n"
     ]
    },
    {
     "data": {
      "image/png": "[encoded data removed]",
      "text/plain": [
       "<Figure size 1080x360 with 3 Axes>"
      ]
     },
     "metadata": {
      "needs_background": "light"
     },
     "output_type": "display_data"
    }
   ],
   "source": [
    "show_dist(df_eda, 'count_capital_words')"
   ]
  },
  {
   "cell_type": "code",
   "execution_count": 12,
   "metadata": {
    "_cell_guid": "24d3ae00-b2f0-4293-a785-048b409d4541",
    "_uuid": "3ca91505f402504320a6c937dd6be5c20cf5a1f1"
   },
   "outputs": [
    {
     "name": "stdout",
     "output_type": "stream",
     "text": [
      "Descriptive stats for count_excl_quest_marks\n",
      "--------------------------------------------\n",
      "                    count      mean       std  min  25%  50%  75%   max\n",
      "airline_sentiment                                                      \n",
      "negative           9178.0  0.634125  1.143958  0.0  0.0  0.0  1.0  27.0\n",
      "neutral            3099.0  0.665053  0.928761  0.0  0.0  0.0  1.0  12.0\n",
      "positive           2363.0  0.892510  1.199191  0.0  0.0  1.0  1.0  13.0\n"
     ]
    },
    {
     "data": {
      "image/png": "[encoded data removed]",
      "text/plain": [
       "<Figure size 1080x360 with 3 Axes>"
      ]
     },
     "metadata": {
      "needs_background": "light"
     },
     "output_type": "display_data"
    }
   ],
   "source": [
    "show_dist(df_eda, 'count_excl_quest_marks')"
   ]
  },
  {
   "cell_type": "code",
   "execution_count": 13,
   "metadata": {
    "_cell_guid": "1e857eb3-e949-48d6-868c-9b8f123b401f",
    "_uuid": "23d339c124cd0ebc82d37be174133cfa2fbfca30"
   },
   "outputs": [
    {
     "name": "stdout",
     "output_type": "stream",
     "text": [
      "Descriptive stats for count_urls\n",
      "--------------------------------\n",
      "                    count      mean       std  min  25%  50%  75%  max\n",
      "airline_sentiment                                                     \n",
      "negative           9178.0  0.049248  0.218403  0.0  0.0  0.0  0.0  2.0\n",
      "neutral            3099.0  0.169732  0.401225  0.0  0.0  0.0  0.0  3.0\n",
      "positive           2363.0  0.098603  0.303818  0.0  0.0  0.0  0.0  2.0\n"
     ]
    },
    {
     "data": {
      "image/png": "[encoded data removed]",
      "text/plain": [
       "<Figure size 1080x360 with 3 Axes>"
      ]
     },
     "metadata": {
      "needs_background": "light"
     },
     "output_type": "display_data"
    }
   ],
   "source": [
    "show_dist(df_eda, 'count_urls')"
   ]
  },
  {
   "cell_type": "code",
   "execution_count": 14,
   "metadata": {
    "_cell_guid": "69ecdc4f-baf5-41dd-bcd5-f805af43325b",
    "_uuid": "68c73eeb67a2af80619c6dc5493050631d8cabf2"
   },
   "outputs": [
    {
     "name": "stdout",
     "output_type": "stream",
     "text": [
      "Descriptive stats for count_emojis\n",
      "----------------------------------\n",
      "                    count      mean       std  min  25%  50%  75%   max\n",
      "airline_sentiment                                                      \n",
      "negative           9178.0  0.028547  0.258772  0.0  0.0  0.0  0.0  8.0 \n",
      "neutral            3099.0  0.076154  0.494654  0.0  0.0  0.0  0.0  13.0\n",
      "positive           2363.0  0.181549  1.257512  0.0  0.0  0.0  0.0  40.0\n"
     ]
    },
    {
     "data": {
      "image/png": "[encoded data removed]",
      "text/plain": [
       "<Figure size 1080x360 with 3 Axes>"
      ]
     },
     "metadata": {
      "needs_background": "light"
     },
     "output_type": "display_data"
    }
   ],
   "source": [
    "show_dist(df_eda, 'count_emojis')"
   ]
  },
  {
   "cell_type": "markdown",
   "metadata": {
    "_cell_guid": "9bb024ed-3893-4eb0-b047-54ca1e7bced7",
    "_uuid": "0171d7539984e488d0cf1a3472854c998f58fcce"
   },
   "source": [
    "**CONCLUSIONS: **\n",
    "* **The number of words** used in the tweets is rater low. Maximum number of words is 36 and there are even tweets with only 2 words. So we'll have to be careful during data cleaning not to remove too many words. On the other hand, the text processing will be faster. Negative tweets contain more words than neutral or positive tweets.\n",
    "* All tweets have at least one **mention**. Probably this is the result of extracting the tweets based on mentions in the Twitter data. There seems to be no difference in number of mentions with regard to the sentiment.\n",
    "* Most of the tweets do not contain **hash tags**. So probably this variable will not be retained during model training. Again, no difference in number of hash tags with regard to the sentiment.\n",
    "* Most of the tweets do not contain **capitalized words** and we do not see a difference in distribution between the sentiments.\n",
    "* The positive tweets seem to be using a bit more **exclamation or question marks**.\n",
    "* Most tweets do not contain a **URL**. \n",
    "* Most tweets do not use **emojis**."
   ]
  },
  {
   "cell_type": "markdown",
   "metadata": {
    "_cell_guid": "0db65f91-0c7e-4d77-98ab-2b0fff58f855",
    "_uuid": "416159ee3509b0953455c170e20cde4136279765"
   },
   "source": [
    "# Text Cleaning\n",
    "Before we start using the tweets' text we clean it. We'll do the this in the class CleanText:\n",
    "- remove the **mentions**, as we want to make the model generalisable to tweets of other airline companies too.\n",
    "- remove the **hash tag sign** (#) but not the actual tag as this may contain information\n",
    "- set all words to **lowercase**\n",
    "- remove all **punctuations**, including the question and exclamation marks\n",
    "- remove the **urls** as they do not contain useful information and we did not notice a distinction in the number of urls used between the sentiment classes\n",
    "- make sure the converted **emojis** are kept as one word. \n",
    "- remove **digits**\n",
    "- remove **stopwords**\n",
    "- apply the **PorterStemmer** to keep the stem of the words"
   ]
  },
  {
   "cell_type": "code",
   "execution_count": 3,
   "metadata": {
    "_cell_guid": "fe4f4723-ac9b-4e46-88d6-4631a961c7e7",
    "_uuid": "b0f586110aa644f90b64b95de139ec0697ac44a1"
   },
   "outputs": [],
   "source": [
    "class CleanText(BaseEstimator, TransformerMixin):\n",
    "    def remove_mentions(self, input_text):\n",
    "        return re.sub(r'@\\w+', '', input_text)\n",
    "    \n",
    "    def remove_urls(self, input_text):\n",
    "        return re.sub(r'http.?://[^\\s]+[\\s]?', '', input_text)\n",
    "    \n",
    "    def emoji_oneword(self, input_text):\n",
    "        # By compressing the underscore, the emoji is kept as one word\n",
    "        return input_text.replace('_','')\n",
    "    \n",
    "    def remove_punctuation(self, input_text):\n",
    "        # Make translation table\n",
    "        punct = string.punctuation\n",
    "        trantab = str.maketrans(punct, len(punct)*' ')  # Every punctuation symbol will be replaced by a space\n",
    "        return input_text.translate(trantab)\n",
    "\n",
    "    def remove_digits(self, input_text):\n",
    "        return re.sub('\\d+', '', input_text)\n",
    "    \n",
    "    def to_lower(self, input_text):\n",
    "        return input_text.lower()\n",
    "    \n",
    "    def remove_stopwords(self, input_text):\n",
    "        stopwords_list = stopwords.words('english')\n",
    "        # Some words which might indicate a certain sentiment are kept via a whitelist\n",
    "        whitelist = [\"n't\", \"not\", \"no\"]\n",
    "        words = input_text.split() \n",
    "        clean_words = [word for word in words if (word not in stopwords_list or word in whitelist) and len(word) > 1] \n",
    "        return \" \".join(clean_words) \n",
    "    \n",
    "    def stemming(self, input_text):\n",
    "        porter = PorterStemmer()\n",
    "        words = input_text.split() \n",
    "        stemmed_words = [porter.stem(word) for word in words]\n",
    "        return \" \".join(stemmed_words)\n",
    "    \n",
    "    def fit(self, X, y=None, **fit_params):\n",
    "        return self\n",
    "    \n",
    "    def transform(self, X, **transform_params):\n",
    "        clean_X = X.apply(self.remove_mentions).apply(self.remove_urls).apply(self.emoji_oneword).apply(self.remove_punctuation).apply(self.remove_digits).apply(self.to_lower).apply(self.remove_stopwords).apply(self.stemming)\n",
    "        return clean_X"
   ]
  },
  {
   "cell_type": "markdown",
   "metadata": {
    "_cell_guid": "267c43d4-f2f0-4533-8e77-33c14243b7af",
    "_uuid": "9090e16587d44743366073e753e3cd06898095d2"
   },
   "source": [
    "To show how the cleaned text variable will look like, here's a sample."
   ]
  },
  {
   "cell_type": "code",
   "execution_count": 4,
   "metadata": {
    "_cell_guid": "b8a27b57-3955-4e97-96f1-01f9c84dc8d4",
    "_uuid": "97369e87f093479687791ee7dcb1bb3b69c30218"
   },
   "outputs": [
    {
     "data": {
      "text/plain": [
       "12222    glad rt bet bird wish flown south winter                         \n",
       "3936     point upc code check baggag tell luggag vacat day tri swimsuit   \n",
       "367      vx jfk la dirti plane not standard                               \n",
       "12257    tell mean work need estim time arriv pleas need laptop work thank\n",
       "2957     sure busi go els airlin travel name kathryn sotelo               \n",
       "Name: text, dtype: object"
      ]
     },
     "execution_count": 4,
     "metadata": {},
     "output_type": "execute_result"
    }
   ],
   "source": [
    "ct = CleanText()\n",
    "sr_clean = ct.fit_transform(df.text)\n",
    "sr_clean.sample(5)"
   ]
  },
  {
   "cell_type": "markdown",
   "metadata": {
    "_cell_guid": "da0be13b-9e22-4709-b83a-a451fb2f5569",
    "_uuid": "d4ceed8983cca2c30af7eedf346400c859ed15e0"
   },
   "source": [
    "**NOTE: **One side-effect of text cleaning is that some rows do not have any words left in their text. For the CountVectorizer and TfIdfVectorizer this does not really pose a problem. However, for the Word2Vec algorithm this causes an error. There are different strategies that you could apply to deal with these missing values.\n",
    "\n",
    "* Remove the complete row, but in a production environment this is not really desirable.\n",
    "* Impute the missing value with some placeholder text like *[no_text]*\n",
    "* Word2Vec: use the average of all vectors\n",
    "\n",
    "Here we will impute with a placeholder text."
   ]
  },
  {
   "cell_type": "code",
   "execution_count": 5,
   "metadata": {
    "_cell_guid": "11567bee-dad6-4809-b4d6-a3203821c779",
    "_uuid": "bba4e68eb15ae8eab41869a3403e910a763ac486"
   },
   "outputs": [
    {
     "name": "stdout",
     "output_type": "stream",
     "text": [
      "22 records have no words left after text cleaning\n"
     ]
    }
   ],
   "source": [
    "empty_clean = sr_clean == ''\n",
    "print('{} records have no words left after text cleaning'.format(sr_clean[empty_clean].count()))\n",
    "sr_clean.loc[empty_clean] = '[no_text]'"
   ]
  },
  {
   "cell_type": "markdown",
   "metadata": {
    "_cell_guid": "84c1dc74-508b-4c55-ab34-ada314997a02",
    "_uuid": "d54ce955f07356f7cfe32960987ed86479a22d21"
   },
   "source": [
    "## Most frequent words\n",
    "Now that we have the cleaned text of the tweets, we can have a look at what are the most frequent words. Below we'll show the top 20 words. \n",
    "\n",
    "**CONCLUSION: **Not surprisingly the most frequent word is *flight*."
   ]
  },
  {
   "cell_type": "code",
   "execution_count": 6,
   "metadata": {
    "_cell_guid": "6e8f0c19-8f1c-4d0d-9156-17a67d9d50d2",
    "_uuid": "99669d586ab45ffef74b67125503ad6314722fea"
   },
   "outputs": [
    {
     "data": {
      "image/png": "[encoded data removed]",
      "text/plain": [
       "<Figure size 864x720 with 1 Axes>"
      ]
     },
     "metadata": {
      "needs_background": "light"
     },
     "output_type": "display_data"
    }
   ],
   "source": [
    "cv = CountVectorizer()\n",
    "bow = cv.fit_transform(sr_clean)\n",
    "word_freq = dict(zip(cv.get_feature_names(), np.asarray(bow.sum(axis=0)).ravel()))\n",
    "word_counter = collections.Counter(word_freq)\n",
    "word_counter_df = pd.DataFrame(word_counter.most_common(20), columns = ['word', 'freq'])\n",
    "\n",
    "fig, ax = plt.subplots(figsize=(12, 10))\n",
    "sns.barplot(x=\"word\", y=\"freq\", data=word_counter_df, palette=\"PuBuGn_d\", ax=ax)\n",
    "plt.show();"
   ]
  },
  {
   "cell_type": "markdown",
   "metadata": {
    "_cell_guid": "18b10489-d892-40cc-8f71-35885a5caaed",
    "_uuid": "eb870c8e3c36854c60282c30b1e3fb091e769329"
   },
   "source": [
    "# Creating test data\n",
    "To evaluate the trained models we'll need a **test set**. Evaluating on the train data would not be correct because the models are trained to minimize their cost function. \n",
    "\n",
    "First we combine the TextCounts variables with the CleanText variable.\n",
    "\n",
    "**NOTE: **Initially, I made the mistake to do execute TextCounts and CleanText in the GridSearchCV below. This took too long as it applies these functions each run of the GridSearch. It suffices to run them only once."
   ]
  },
  {
   "cell_type": "code",
   "execution_count": 27,
   "metadata": {
    "_cell_guid": "ccee501f-44a6-4f0d-9b6a-6bdf8713dd12",
    "_uuid": "ff3f7a17f2b17fbfd43c24f33a061446fb502ca8"
   },
   "outputs": [
    {
     "data": {
      "text/plain": [
       "['count_words',\n",
       " 'count_mentions',\n",
       " 'count_hashtags',\n",
       " 'count_capital_words',\n",
       " 'count_excl_quest_marks',\n",
       " 'count_urls',\n",
       " 'count_emojis',\n",
       " 'airline_sentiment',\n",
       " 'clean_text']"
      ]
     },
     "execution_count": 27,
     "metadata": {},
     "output_type": "execute_result"
    }
   ],
   "source": [
    "df_model = df_eda\n",
    "df_model['clean_text'] = sr_clean\n",
    "df_model.columns.tolist()"
   ]
  },
  {
   "cell_type": "markdown",
   "metadata": {
    "_cell_guid": "509efba0-9d31-4c85-aef3-613cd1c6b17f",
    "_uuid": "79267622616a04aff402157783c5ed13a911dca6"
   },
   "source": [
    "So df_model now contains several variables. However, our vectorizers (see below) will only need the *clean_text* variable. The TextCounts variables can be added as such. To specifically select columns, I wrote the class **ColumnExtractor** below. This can be used in the Pipeline afterwards."
   ]
  },
  {
   "cell_type": "code",
   "execution_count": 28,
   "metadata": {
    "_cell_guid": "b9b66faf-2fc6-4c50-9e1f-89b8dc5df13a",
    "_uuid": "b6354efffb71c5a998ddf7f206aebd6c3324c117"
   },
   "outputs": [],
   "source": [
    "class ColumnExtractor(TransformerMixin, BaseEstimator):\n",
    "    def __init__(self, cols):\n",
    "        self.cols = cols\n",
    "\n",
    "    def transform(self, X, **transform_params):\n",
    "        return X[self.cols]\n",
    "\n",
    "    def fit(self, X, y=None, **fit_params):\n",
    "        return self"
   ]
  },
  {
   "cell_type": "code",
   "execution_count": 29,
   "metadata": {
    "_cell_guid": "df742ade-52d3-4b47-80b0-1f7cc26545eb",
    "_uuid": "6ab9296159749e4525244fae6d6f4e6a37121c93"
   },
   "outputs": [],
   "source": [
    "X_train, X_test, y_train, y_test = train_test_split(df_model.drop('airline_sentiment', axis=1), df_model.airline_sentiment, test_size=0.1, random_state=37)"
   ]
  },
  {
   "cell_type": "markdown",
   "metadata": {
    "_cell_guid": "a636aca6-1eed-4b59-ac7a-61b1cbcf10d6",
    "_uuid": "556b12393f591c21ac439bf3a0a9b7cf2fbbfd5b"
   },
   "source": [
    "## Hyperparameter tuning and cross-validation\n",
    "As we will see below, the vectorizers and classifiers all have configurable parameters. In order to chose the best parameters, we need to evaluate on a separate validation set that was not used during the training. However, using only one validation set may not produce reliable validation results. Due to chance you might have a good model performance on the validation set. If you would split the data otherwise, you might end up with other results. To get a more accurate estimation, we perform **cross-validation**. \n",
    "\n",
    "With cross-validation the data is split into a train and validation set multiple times. The evaluation metric is then averaged over the different folds. Luckily, GridSearchCV applies cross-validation out-of-the-box.\n",
    "\n",
    "To find the best parameters for both a vectorizer and classifier, we create a **Pipeline**. All this is put into a function for ease of use.\n",
    "\n",
    "### Evaluation metrics\n",
    "By default GridSearchCV uses the default scorer to compute the *best_score_*. For both the MultiNomialNb and LogisticRegression this default scoring metric is the accuracy. \n",
    "\n",
    "In our function *grid_vect* we additionally generate the *classification_report* on the test data. This provides some interesting metrics **per target class**, which might be more appropriate here. These metrics are the **precision, recal and F1 score.**\n",
    "\n",
    "* **Precision: ** Of all rows we predicted to be a certain class, how many did we correctly predict?\n",
    "* **Recall: ** Of all rows of a certain class, how many did we correctly predict?\n",
    "* **F1 score: ** Harmonic mean of Precision and Recall.\n",
    "\n",
    "Precision and Recall can be calculated with the elements of the [confusion matrix](https://en.wikipedia.org/wiki/Confusion_matrix)\n",
    "\n",
    "$$Precision = {TP \\over TP + FP}$$\n",
    "\n",
    "\n",
    "$$Recall = {TP \\over TP + FN}$$\n",
    "\n",
    "\n",
    "$$F1 = {2*{Precision*Recall \\over Precision + Recall}}$$"
   ]
  },
  {
   "cell_type": "code",
   "execution_count": 25,
   "metadata": {
    "_cell_guid": "087a0727-fac6-4415-a8a0-b0c82df63903",
    "_uuid": "c4e69eaf67e587b05ca4e8da2bdecfbff8932e06"
   },
   "outputs": [],
   "source": [
    "# Based on http://scikit-learn.org/stable/auto_examples/model_selection/grid_search_text_feature_extraction.html\n",
    "def grid_vect(clf, parameters_clf, X_train, X_test, parameters_text=None, vect=None, is_w2v=False):\n",
    "    \n",
    "    textcountscols = ['count_capital_words','count_emojis','count_excl_quest_marks','count_hashtags'\n",
    "                      ,'count_mentions','count_urls','count_words']\n",
    "    \n",
    "    if is_w2v:\n",
    "        w2vcols = []\n",
    "        for i in range(SIZE):\n",
    "            w2vcols.append(i)\n",
    "        features = FeatureUnion([('textcounts', ColumnExtractor(cols=textcountscols))\n",
    "                                 , ('w2v', ColumnExtractor(cols=w2vcols))]\n",
    "                                , n_jobs=-1)\n",
    "    else:\n",
    "        features = FeatureUnion([('textcounts', ColumnExtractor(cols=textcountscols))\n",
    "                                 , ('pipe', Pipeline([('cleantext', ColumnExtractor(cols='clean_text')), ('vect', vect)]))]\n",
    "                                , n_jobs=-1)\n",
    "\n",
    "    \n",
    "    pipeline = Pipeline([\n",
    "        ('features', features)\n",
    "        , ('clf', clf)\n",
    "    ])\n",
    "    \n",
    "    # Join the parameters dictionaries together\n",
    "    parameters = dict()\n",
    "    if parameters_text:\n",
    "        parameters.update(parameters_text)\n",
    "    parameters.update(parameters_clf)\n",
    "\n",
    "    # Make sure you have scikit-learn version 0.19 or higher to use multiple scoring metrics\n",
    "    grid_search = GridSearchCV(pipeline, parameters, n_jobs=-1, verbose=1, cv=5)\n",
    "    \n",
    "    print(\"Performing grid search...\")\n",
    "    print(\"pipeline:\", [name for name, _ in pipeline.steps])\n",
    "    print(\"parameters:\")\n",
    "    pprint(parameters)\n",
    "\n",
    "    t0 = time()\n",
    "    grid_search.fit(X_train, y_train)\n",
    "    print(\"done in %0.3fs\" % (time() - t0))\n",
    "    print()\n",
    "\n",
    "    print(\"Best CV score: %0.3f\" % grid_search.best_score_)\n",
    "    print(\"Best parameters set:\")\n",
    "    best_parameters = grid_search.best_estimator_.get_params()\n",
    "    for param_name in sorted(parameters.keys()):\n",
    "        print(\"\\t%s: %r\" % (param_name, best_parameters[param_name]))\n",
    "        \n",
    "    print(\"Test score with best_estimator_: %0.3f\" % grid_search.best_estimator_.score(X_test, y_test))\n",
    "    print(\"\\n\")\n",
    "    print(\"Classification Report Test Data\")\n",
    "    print(classification_report(y_test, grid_search.best_estimator_.predict(X_test)))\n",
    "                        \n",
    "    return grid_search"
   ]
  },
  {
   "cell_type": "markdown",
   "metadata": {
    "_cell_guid": "01574750-6449-4965-9dfd-3d0ac5ccc34e",
    "_uuid": "0e8f816603ce6030c8ea9d49783701e897db1688"
   },
   "source": [
    "### Parameter grids for GridSearchCV"
   ]
  },
  {
   "cell_type": "code",
   "execution_count": 26,
   "metadata": {
    "_cell_guid": "9212c557-3369-41ba-9162-742fa60eb17e",
    "_uuid": "193739bf202f607a7f6807738fe4c398af49f5e3"
   },
   "outputs": [],
   "source": [
    "# Parameter grid settings for the vectorizers (Count and TFIDF)\n",
    "parameters_vect = {\n",
    "    'features__pipe__vect__max_df': (0.25, 0.5, 0.75),\n",
    "    'features__pipe__vect__ngram_range': ((1, 1), (1, 2)),\n",
    "    'features__pipe__vect__min_df': (1,2)\n",
    "}\n",
    "\n",
    "\n",
    "# Parameter grid settings for MultinomialNB\n",
    "parameters_mnb = {\n",
    "    'clf__alpha': (0.25, 0.5, 0.75)\n",
    "}\n",
    "\n",
    "\n",
    "# Parameter grid settings for LogisticRegression\n",
    "parameters_logreg = {\n",
    "    'clf__C': (0.25, 0.5, 1.0),\n",
    "    'clf__penalty': ('l1', 'l2')\n",
    "}"
   ]
  },
  {
   "cell_type": "markdown",
   "metadata": {
    "_cell_guid": "8793746e-2824-4070-a65d-e9657be8346a",
    "_uuid": "0460417e826faaec6753c344d184415775afbf7f"
   },
   "source": [
    "## Classifiers\n",
    "Here we will compare the performance of a MultinomailNB and LogisticRegression."
   ]
  },
  {
   "cell_type": "code",
   "execution_count": 27,
   "metadata": {
    "_cell_guid": "36321c02-35d4-4251-8191-6d470bad1a46",
    "_uuid": "008942f2740a960f69ef61eb9b7eade21609104c"
   },
   "outputs": [],
   "source": [
    "mnb = MultinomialNB()\n",
    "logreg = LogisticRegression()"
   ]
  },
  {
   "cell_type": "markdown",
   "metadata": {
    "_cell_guid": "cb2dc7e1-0a2c-4e10-b98d-de222e0646a4",
    "_uuid": "c21acf0845975a8bb319a41826499742d229999d"
   },
   "source": [
    "## CountVectorizer\n",
    "To use words in a classifier, we need to convert the words to numbers. This can be done with a CountVectorizer. Sklearn's **CountVectorizer** takes all words in all tweets, assigns an ID and counts the frequency of the word per tweet. This *bag of words* can then be used as input for a classifier. It is what is called a **sparse** data set, meaning that each record will have many zeroes for the words not occurring in the tweet."
   ]
  },
  {
   "cell_type": "code",
   "execution_count": 28,
   "metadata": {
    "_cell_guid": "de29adfc-1c07-4feb-8c91-c9899cb2808e",
    "_uuid": "c3df430fa01c37c4545c5051eba607a42727786d"
   },
   "outputs": [],
   "source": [
    "countvect = CountVectorizer()"
   ]
  },
  {
   "cell_type": "code",
   "execution_count": 29,
   "metadata": {
    "_cell_guid": "afb5ec51-b86f-40bf-ab9d-3371c4a90d92",
    "_uuid": "7b430d09e131f7f62d528d471c7eb8f8445b7dba"
   },
   "outputs": [
    {
     "name": "stdout",
     "output_type": "stream",
     "text": [
      "Performing grid search...\n",
      "pipeline: ['features', 'clf']\n",
      "parameters:\n",
      "{'clf__alpha': (0.25, 0.5, 0.75),\n",
      " 'features__pipe__vect__max_df': (0.25, 0.5, 0.75),\n",
      " 'features__pipe__vect__min_df': (1, 2),\n",
      " 'features__pipe__vect__ngram_range': ((1, 1), (1, 2))}\n",
      "Fitting 5 folds for each of 36 candidates, totalling 180 fits\n"
     ]
    },
    {
     "name": "stderr",
     "output_type": "stream",
     "text": [
      "[Parallel(n_jobs=-1)]: Using backend LokyBackend with 12 concurrent workers.\n",
      "[Parallel(n_jobs=-1)]: Done  26 tasks      | elapsed:    5.2s\n",
      "[Parallel(n_jobs=-1)]: Done 180 out of 180 | elapsed:   15.0s finished\n"
     ]
    },
    {
     "name": "stdout",
     "output_type": "stream",
     "text": [
      "done in 15.950s\n",
      "\n",
      "Best CV score: 0.776\n",
      "Best parameters set:\n",
      "\tclf__alpha: 0.5\n",
      "\tfeatures__pipe__vect__max_df: 0.5\n",
      "\tfeatures__pipe__vect__min_df: 2\n",
      "\tfeatures__pipe__vect__ngram_range: (1, 2)\n",
      "Test score with best_estimator_: 0.784\n",
      "\n",
      "\n",
      "Classification Report Test Data\n",
      "              precision    recall  f1-score   support\n",
      "\n",
      "    negative       0.82      0.91      0.86       911\n",
      "     neutral       0.66      0.48      0.56       320\n",
      "    positive       0.77      0.72      0.74       233\n",
      "\n",
      "    accuracy                           0.78      1464\n",
      "   macro avg       0.75      0.70      0.72      1464\n",
      "weighted avg       0.77      0.78      0.77      1464\n",
      "\n"
     ]
    }
   ],
   "source": [
    "# MultinomialNB\n",
    "best_mnb_countvect = grid_vect(mnb, parameters_mnb, X_train, X_test, parameters_text=parameters_vect, vect=countvect)\n",
    "#joblib.dump(best_mnb_countvect, '../output/best_mnb_countvect.pkl')"
   ]
  },
  {
   "cell_type": "code",
   "execution_count": 30,
   "metadata": {
    "_cell_guid": "542fc0be-11a4-41a4-8c81-2cd424dd4d69",
    "_uuid": "036edeb05520a608a42eec7342234683ae711eaa"
   },
   "outputs": [
    {
     "name": "stdout",
     "output_type": "stream",
     "text": [
      "Performing grid search...\n",
      "pipeline: ['features', 'clf']\n",
      "parameters:\n",
      "{'clf__C': (0.25, 0.5, 1.0),\n",
      " 'clf__penalty': ('l1', 'l2'),\n",
      " 'features__pipe__vect__max_df': (0.25, 0.5, 0.75),\n",
      " 'features__pipe__vect__min_df': (1, 2),\n",
      " 'features__pipe__vect__ngram_range': ((1, 1), (1, 2))}\n",
      "Fitting 5 folds for each of 72 candidates, totalling 360 fits\n"
     ]
    },
    {
     "name": "stderr",
     "output_type": "stream",
     "text": [
      "[Parallel(n_jobs=-1)]: Using backend LokyBackend with 12 concurrent workers.\n",
      "[Parallel(n_jobs=-1)]: Done  26 tasks      | elapsed:    1.7s\n",
      "[Parallel(n_jobs=-1)]: Done 176 tasks      | elapsed:  1.0min\n",
      "[Parallel(n_jobs=-1)]: Done 360 out of 360 | elapsed:  2.9min finished\n"
     ]
    },
    {
     "name": "stdout",
     "output_type": "stream",
     "text": [
      "done in 182.326s\n",
      "\n",
      "Best CV score: 0.787\n",
      "Best parameters set:\n",
      "\tclf__C: 0.25\n",
      "\tclf__penalty: 'l2'\n",
      "\tfeatures__pipe__vect__max_df: 0.5\n",
      "\tfeatures__pipe__vect__min_df: 1\n",
      "\tfeatures__pipe__vect__ngram_range: (1, 2)\n",
      "Test score with best_estimator_: 0.798\n",
      "\n",
      "\n",
      "Classification Report Test Data\n",
      "              precision    recall  f1-score   support\n",
      "\n",
      "    negative       0.82      0.92      0.87       911\n",
      "     neutral       0.70      0.53      0.60       320\n",
      "    positive       0.79      0.70      0.74       233\n",
      "\n",
      "    accuracy                           0.80      1464\n",
      "   macro avg       0.77      0.72      0.74      1464\n",
      "weighted avg       0.79      0.80      0.79      1464\n",
      "\n"
     ]
    }
   ],
   "source": [
    "# LogisticRegression\n",
    "best_logreg_countvect = grid_vect(logreg, parameters_logreg, X_train, X_test, parameters_text=parameters_vect, vect=countvect)\n",
    "#joblib.dump(best_logreg_countvect, '../output/best_logreg_countvect.pkl')"
   ]
  },
  {
   "cell_type": "markdown",
   "metadata": {
    "_cell_guid": "dbaf51ca-906d-4af1-9055-22c791f6de07",
    "_uuid": "fa577f613aafd434a375502edaa66d3ceca23aaa"
   },
   "source": [
    "## TF-IDF\n",
    "One issue with CountVectorizer is that there might be words that occur frequently in observations of the target classes. These words do not have discriminatory information and can be removed. **TF-IDF (term frequency - inverse document frequency)** can be used to downweight these frequent words.\n",
    "\n",
    "$$tfidf(t,d) = tf(t,d)*idf(t,d)$$\n",
    "\n",
    "where tf(t,d) is the number of times term *t* occurs in document *d*. The inverse document frequency can be computed as follows:\n",
    "\n",
    "$$idf(t,d) = log{n_d \\over 1 + df(d,t)}$$\n",
    "\n",
    "* $n_d$ is the number of documents\n",
    "* df(d,t) is the number of documents that contain term *t*\n",
    "\n",
    "We see that words that occur in many documents will have a low idf. By adding 1 to the denominator, we avoid having an idf equal to zero for words that occur in all documents."
   ]
  },
  {
   "cell_type": "code",
   "execution_count": 31,
   "metadata": {
    "_cell_guid": "1f7ed46a-4f7b-4671-b77d-1fd800dc2b15",
    "_uuid": "0c5279535d8dacb86b3560eb3257a548e9837126"
   },
   "outputs": [],
   "source": [
    "tfidfvect = TfidfVectorizer()"
   ]
  },
  {
   "cell_type": "code",
   "execution_count": 32,
   "metadata": {
    "_cell_guid": "4892673a-2f32-4c60-ae60-4c38f6f95285",
    "_uuid": "f9c84cb6a4c16d9fd850f1d94ecdb63f3f351c16"
   },
   "outputs": [
    {
     "name": "stdout",
     "output_type": "stream",
     "text": [
      "Performing grid search...\n",
      "pipeline: ['features', 'clf']\n",
      "parameters:\n",
      "{'clf__alpha': (0.25, 0.5, 0.75),\n",
      " 'features__pipe__vect__max_df': (0.25, 0.5, 0.75),\n",
      " 'features__pipe__vect__min_df': (1, 2),\n",
      " 'features__pipe__vect__ngram_range': ((1, 1), (1, 2))}\n",
      "Fitting 5 folds for each of 36 candidates, totalling 180 fits\n"
     ]
    },
    {
     "name": "stderr",
     "output_type": "stream",
     "text": [
      "[Parallel(n_jobs=-1)]: Using backend LokyBackend with 12 concurrent workers.\n",
      "[Parallel(n_jobs=-1)]: Done  26 tasks      | elapsed:    2.4s\n",
      "[Parallel(n_jobs=-1)]: Done 180 out of 180 | elapsed:   14.8s finished\n"
     ]
    },
    {
     "name": "stdout",
     "output_type": "stream",
     "text": [
      "done in 15.837s\n",
      "\n",
      "Best CV score: 0.748\n",
      "Best parameters set:\n",
      "\tclf__alpha: 0.25\n",
      "\tfeatures__pipe__vect__max_df: 0.25\n",
      "\tfeatures__pipe__vect__min_df: 2\n",
      "\tfeatures__pipe__vect__ngram_range: (1, 2)\n",
      "Test score with best_estimator_: 0.750\n",
      "\n",
      "\n",
      "Classification Report Test Data\n",
      "              precision    recall  f1-score   support\n",
      "\n",
      "    negative       0.74      0.97      0.84       911\n",
      "     neutral       0.76      0.29      0.42       320\n",
      "    positive       0.80      0.50      0.62       233\n",
      "\n",
      "    accuracy                           0.75      1464\n",
      "   macro avg       0.77      0.59      0.63      1464\n",
      "weighted avg       0.76      0.75      0.72      1464\n",
      "\n"
     ]
    }
   ],
   "source": [
    "# MultinomialNB\n",
    "best_mnb_tfidf = grid_vect(mnb, parameters_mnb, X_train, X_test, parameters_text=parameters_vect, vect=tfidfvect)\n",
    "#joblib.dump(best_mnb_tfidf, '../output/best_mnb_tfidf.pkl')"
   ]
  },
  {
   "cell_type": "code",
   "execution_count": 33,
   "metadata": {
    "_cell_guid": "214a2383-9cb8-4d90-a326-f3018118ffff",
    "_uuid": "95e60d825eb7f71de879ed3dcb54feaae461d2f9"
   },
   "outputs": [
    {
     "name": "stdout",
     "output_type": "stream",
     "text": [
      "Performing grid search...\n",
      "pipeline: ['features', 'clf']\n",
      "parameters:\n",
      "{'clf__C': (0.25, 0.5, 1.0),\n",
      " 'clf__penalty': ('l1', 'l2'),\n",
      " 'features__pipe__vect__max_df': (0.25, 0.5, 0.75),\n",
      " 'features__pipe__vect__min_df': (1, 2),\n",
      " 'features__pipe__vect__ngram_range': ((1, 1), (1, 2))}\n",
      "Fitting 5 folds for each of 72 candidates, totalling 360 fits\n"
     ]
    },
    {
     "name": "stderr",
     "output_type": "stream",
     "text": [
      "[Parallel(n_jobs=-1)]: Using backend LokyBackend with 12 concurrent workers.\n",
      "[Parallel(n_jobs=-1)]: Done  26 tasks      | elapsed:    1.9s\n",
      "[Parallel(n_jobs=-1)]: Done 176 tasks      | elapsed:  1.1min\n",
      "[Parallel(n_jobs=-1)]: Done 360 out of 360 | elapsed:  3.1min finished\n"
     ]
    },
    {
     "name": "stdout",
     "output_type": "stream",
     "text": [
      "done in 187.210s\n",
      "\n",
      "Best CV score: 0.757\n",
      "Best parameters set:\n",
      "\tclf__C: 1.0\n",
      "\tclf__penalty: 'l2'\n",
      "\tfeatures__pipe__vect__max_df: 0.25\n",
      "\tfeatures__pipe__vect__min_df: 2\n",
      "\tfeatures__pipe__vect__ngram_range: (1, 1)\n",
      "Test score with best_estimator_: 0.754\n",
      "\n",
      "\n",
      "Classification Report Test Data\n",
      "              precision    recall  f1-score   support\n",
      "\n",
      "    negative       0.77      0.93      0.84       911\n",
      "     neutral       0.68      0.40      0.50       320\n",
      "    positive       0.72      0.56      0.63       233\n",
      "\n",
      "    accuracy                           0.75      1464\n",
      "   macro avg       0.72      0.63      0.66      1464\n",
      "weighted avg       0.74      0.75      0.74      1464\n",
      "\n"
     ]
    }
   ],
   "source": [
    "# LogisticRegression\n",
    "best_logreg_tfidf = grid_vect(logreg, parameters_logreg, X_train, X_test, parameters_text=parameters_vect, vect=tfidfvect)\n",
    "#joblib.dump(best_logreg_tfidf, '../output/best_logreg_tfidf.pkl')"
   ]
  },
  {
   "cell_type": "markdown",
   "metadata": {
    "_cell_guid": "eabc2c85-1c0e-4f10-a86b-8e9a9010b013",
    "_uuid": "d0f95a5ca1fc981f625bcfabad73ab23aaf3c4dc"
   },
   "source": [
    "## Word2Vec\n",
    "Another way of converting the words in the tweets to numerical values can be achieved with Word2Vec. Word2Vec maps each word in a multi-dimensional space. It does this by taking into account the context in which a word appears in the tweets. As a result, words that are semantically similar are also close to each other in the multi-dimensional space. \n",
    "\n",
    "The Word2Vec algorithm is implemented in the [gensim](https://radimrehurek.com/gensim/models/word2vec.html) package.\n",
    "\n",
    "The Word2Vec algorithm uses lists of words as input. For that purpose we use the **word_tokenize** method of the the nltk package."
   ]
  },
  {
   "cell_type": "code",
   "execution_count": 34,
   "metadata": {
    "_cell_guid": "15a6a3ce-90d5-4414-b2b6-4d2c64317fa6",
    "_uuid": "c025fc3ca889f327166163c06ed3bdc4b7d0693e"
   },
   "outputs": [],
   "source": [
    "SIZE = 50\n",
    "\n",
    "X_train['clean_text_wordlist'] = X_train.clean_text.apply(lambda x : word_tokenize(x))\n",
    "X_test['clean_text_wordlist'] = X_test.clean_text.apply(lambda x : word_tokenize(x))\n",
    "\n",
    "model = gensim.models.Word2Vec(X_train.clean_text_wordlist\n",
    "                 , min_count=1\n",
    "                 , size=SIZE\n",
    "                 , window=5\n",
    "                 , workers=4)"
   ]
  },
  {
   "cell_type": "code",
   "execution_count": 35,
   "metadata": {
    "_cell_guid": "147ac98f-81f4-4812-b0e6-82be4e62b4f7",
    "_uuid": "2d0e5851469b48ed7aaaa683360a478f7aa68312"
   },
   "outputs": [
    {
     "data": {
      "text/plain": [
       "[('half', 0.9987298250198364),\n",
       " ('runway', 0.9987131953239441),\n",
       " ('tarmac', 0.9986671805381775)]"
      ]
     },
     "execution_count": 35,
     "metadata": {},
     "output_type": "execute_result"
    }
   ],
   "source": [
    "model.most_similar('plane', topn=3)"
   ]
  },
  {
   "cell_type": "markdown",
   "metadata": {
    "_cell_guid": "8ab070a7-f9fb-419e-ae08-8354678b6d44",
    "_uuid": "8d1d10d0ab55e563c21bc2e8fdbf661c85f86861"
   },
   "source": [
    "The Word2Vec model provides a vocabulary of the words in the corpus together with their vector values. The number of vector values is equal to the chosen **size**. These are the dimensions on which each word is mapped in the multi-dimensional space.\n",
    "\n",
    "Words with an occurrence less than **min_count** are not kept in the vocabulary. \n",
    "**NOTE: **A side effect of the **min_count** parameter is that some tweets could have no vector values. This is would be the case when the word(s) in the tweet occur in less than *min_count* tweets. Due to the small corpus of tweets, there is a risk of this happening in our case. Therefore we set the min_count value equal to 1.\n",
    "\n",
    "The tweets can have a different number of vectors, depending on the number of words it contains. To use this output for modeling we will aggregate the vectors per tweet to have the same number (i.e. *size*) of input variables per tweet. Therefore we will take the average of all vectors per tweet. We do this with the function **compute_avg_w2v_vector**. In this function we also check whether the words in the tweet occur in the vocabulary of the word2vec model. If not, a list filled with 0.0 is returned. Else the average of the word vectors."
   ]
  },
  {
   "cell_type": "code",
   "execution_count": 36,
   "metadata": {
    "_cell_guid": "e3e2cc96-9e47-4008-8dba-4b38b9d56e9a",
    "_uuid": "8f8bb64ea5c614fde257d5598ffe15f96d7d1007"
   },
   "outputs": [],
   "source": [
    "def compute_avg_w2v_vector(w2v_dict, tweet):\n",
    "    list_of_word_vectors = [w2v_dict[w] for w in tweet if w in w2v_dict.vocab.keys()]\n",
    "    \n",
    "    if len(list_of_word_vectors) == 0:\n",
    "        result = [0.0]*SIZE\n",
    "    else:\n",
    "        result = np.sum(list_of_word_vectors, axis=0) / len(list_of_word_vectors)\n",
    "        \n",
    "    return result"
   ]
  },
  {
   "cell_type": "code",
   "execution_count": 37,
   "metadata": {
    "_cell_guid": "a565bf07-dc13-47c4-b15a-34d76b4f9709",
    "_uuid": "c4ef3f27b39715b2b6c8d1b8097247df8be17c49"
   },
   "outputs": [],
   "source": [
    "X_train_w2v = X_train['clean_text_wordlist'].apply(lambda x: compute_avg_w2v_vector(model.wv, x))\n",
    "X_test_w2v = X_test['clean_text_wordlist'].apply(lambda x: compute_avg_w2v_vector(model.wv, x))"
   ]
  },
  {
   "cell_type": "markdown",
   "metadata": {
    "_cell_guid": "9960b357-36b9-464f-ab9b-847c1c2b94e4",
    "_uuid": "da4f8b5208928a33b11a695cf632ca48312b9914"
   },
   "source": [
    "This gives us a Series with a vector of dimension equal to SIZE. Now we will split this vector and create a DataFrame with each vector value in a separate column. That way we can concatenate the word2vec variables to the other TextCounts variables. We need to reuse the index of X_train and X_test respectively. Otherwise this will give issues (duplicates) in the concatenation later on."
   ]
  },
  {
   "cell_type": "code",
   "execution_count": 38,
   "metadata": {
    "_cell_guid": "8a4fdcd5-c7ca-4466-9cb3-4bf4bd9168a8",
    "_uuid": "2e179a61852c0104fa69778da4112458947df849"
   },
   "outputs": [],
   "source": [
    "X_train_w2v = pd.DataFrame(X_train_w2v.values.tolist(), index= X_train.index)\n",
    "X_test_w2v = pd.DataFrame(X_test_w2v.values.tolist(), index= X_test.index)\n",
    "\n",
    "# Concatenate with the TextCounts variables\n",
    "X_train_w2v = pd.concat([X_train_w2v, X_train.drop(['clean_text', 'clean_text_wordlist'], axis=1)], axis=1)\n",
    "X_test_w2v = pd.concat([X_test_w2v, X_test.drop(['clean_text', 'clean_text_wordlist'], axis=1)], axis=1)"
   ]
  },
  {
   "cell_type": "markdown",
   "metadata": {
    "_cell_guid": "bd3dcab9-7142-4ad8-92ee-c3d38b3ed728",
    "_uuid": "a7af9c05fc41ff9e21b4eaf14a29896ea894cb42"
   },
   "source": [
    "**NOTE: **We only consider LogisticRegression as we have negative values in the Word2Vec vectors. MultinomialNB assumes that the variables have a [multinomial distribution](https://en.wikipedia.org/wiki/Multinomial_distribution) which cannot contain negative values."
   ]
  },
  {
   "cell_type": "code",
   "execution_count": 39,
   "metadata": {
    "_cell_guid": "ec60ef90-c066-4122-8127-f6baae769b82",
    "_uuid": "f3f0f72c6f9026dcbf7968c051e278be6e51c142"
   },
   "outputs": [
    {
     "name": "stdout",
     "output_type": "stream",
     "text": [
      "Performing grid search...\n",
      "pipeline: ['features', 'clf']\n",
      "parameters:\n",
      "{'clf__C': (0.25, 0.5, 1.0), 'clf__penalty': ('l1', 'l2')}\n",
      "Fitting 5 folds for each of 6 candidates, totalling 30 fits\n"
     ]
    },
    {
     "name": "stderr",
     "output_type": "stream",
     "text": [
      "[Parallel(n_jobs=-1)]: Using backend LokyBackend with 12 concurrent workers.\n",
      "[Parallel(n_jobs=-1)]: Done  30 out of  30 | elapsed:    2.8s finished\n"
     ]
    },
    {
     "name": "stdout",
     "output_type": "stream",
     "text": [
      "done in 3.504s\n",
      "\n",
      "Best CV score: 0.687\n",
      "Best parameters set:\n",
      "\tclf__C: 0.5\n",
      "\tclf__penalty: 'l2'\n",
      "Test score with best_estimator_: 0.693\n",
      "\n",
      "\n",
      "Classification Report Test Data\n",
      "              precision    recall  f1-score   support\n",
      "\n",
      "    negative       0.72      0.94      0.81       911\n",
      "     neutral       0.57      0.25      0.35       320\n",
      "    positive       0.62      0.35      0.45       233\n",
      "\n",
      "    accuracy                           0.69      1464\n",
      "   macro avg       0.64      0.51      0.53      1464\n",
      "weighted avg       0.67      0.69      0.65      1464\n",
      "\n"
     ]
    }
   ],
   "source": [
    "best_logreg_w2v = grid_vect(logreg, parameters_logreg, X_train_w2v, X_test_w2v, is_w2v=True)\n",
    "#joblib.dump(best_logreg_w2v, '../output/best_logreg_w2v.pkl')"
   ]
  },
  {
   "cell_type": "markdown",
   "metadata": {
    "_cell_guid": "c7477bd7-6d56-4bf2-9449-681b88d148ff",
    "_uuid": "b82428854dd5fc8e830a8c028ecc9d290ae9aefc"
   },
   "source": [
    "## Conclusion\n",
    "* Both classifiers achieve the best results when using the features of the CountVectorizer\n",
    "* Overall, Logistic Regression outperforms the Multinomial Naive Bayes classifier\n",
    "* The best performance on the test set comes from the LogisticRegression with features from CountVectorizer. \n",
    "\n",
    "Best parameters:\n",
    "* C value of 1\n",
    "* L2 regularization\n",
    "* max_df: 0.5 or maximum document frequency of 50%.\n",
    "* min_df: 1 or the words need to appear in at least 2 tweets\n",
    "* ngram_range: (1, 2), both single words as bi-grams are used.\n",
    "\n",
    "Evaluation metrics:\n",
    "* A **test accuracy** of 81,3%, which is better than what we would achieve by setting the prediction for all observations to the majority class (*negative* which would give 63% accuracy).\n",
    "* The **Precision** is rather high for all three classes. For instance, of all cases that we predict as negative, 80% is indeed negative.\n",
    "* The **Recall** for the neutral class is low. Of all neutral cases in our test data, we only predict 48% as being neutral."
   ]
  },
  {
   "cell_type": "markdown",
   "metadata": {},
   "source": [
    "### Now it's time to work on main challenge\n",
    "\n",
    "- Perform Sentiment analysis using XLNET on Twitter US Airline Sentiment and apply the EDA augmentation. \n",
    "- Report the performance metrics for before and after augmentation? \n",
    "- show examples of data augmentaion?"
   ]
  },
  {
   "cell_type": "code",
   "execution_count": 4,
   "metadata": {},
   "outputs": [
    {
     "name": "stderr",
     "output_type": "stream",
     "text": [
      "Using TensorFlow backend.\n",
      "C:\\Users\\Tarun Makkar\\Anaconda3\\envs\\keras-gpu\\lib\\site-packages\\keras\\callbacks.py:20: DeprecationWarning: Using or importing the ABCs from 'collections' instead of from 'collections.abc' is deprecated, and in 3.8 it will stop working\n",
      "  from collections import Iterable\n"
     ]
    }
   ],
   "source": [
    "import transformers\n",
    "import torch\n",
    "from transformers import (GPT2Config, GPT2LMHeadModel, GPT2DoubleHeadsModel,AdamW, get_linear_schedule_with_warmup)\n",
    "from transformers import XLNetTokenizer, XLNetModel, AdamW, get_linear_schedule_with_warmup\n",
    "from matplotlib import rc\n",
    "from sklearn.metrics import confusion_matrix, classification_report, accuracy_score\n",
    "from collections import defaultdict\n",
    "from textwrap import wrap\n",
    "from pylab import rcParams\n",
    "\n",
    "from torch import nn, optim\n",
    "from keras.preprocessing.sequence import pad_sequences\n",
    "from torch.utils.data import TensorDataset,RandomSampler,SequentialSampler\n",
    "from torch.utils.data import Dataset, DataLoader\n",
    "import torch.nn.functional as F\n",
    "import re\n",
    "from transformers import XLNetTokenizer"
   ]
  },
  {
   "cell_type": "code",
   "execution_count": 12,
   "metadata": {},
   "outputs": [],
   "source": [
    "import pandas as pd"
   ]
  },
  {
   "cell_type": "code",
   "execution_count": 13,
   "metadata": {},
   "outputs": [],
   "source": [
    "# Reading data using pandas\n",
    "path_to_data = \"Tweets.csv\"\n",
    "df = pd.read_csv(path_to_data)\n",
    "\n",
    "# Shuffle and Clip data\n",
    "#df = shuffle(df)\n",
    "\n",
    "# Function to clean text. Remove tagged entities, hyperlinks, emojis\n",
    "def clean_text(text):\n",
    "    text = re.sub(r\"@[A-Za-z0-9]+\", ' ', text)\n",
    "    text = re.sub(r\"https?://[A-Za-z0-9./]+\", ' ', text)\n",
    "    text = re.sub(r\"[^a-zA-z.!?'0-9]\", ' ', text)\n",
    "    text = re.sub('\\t', ' ',  text)\n",
    "    text = re.sub(r\" +\", ' ', text)\n",
    "    return text\n",
    " \n",
    "df['text'] = df['text'].apply(clean_text)\n",
    "\n",
    "# Function to convert labels to number.\n",
    "def airline_sentiment2label(airline_sentiment):\n",
    "    if airline_sentiment == \"positive\":\n",
    "        return 1\n",
    "    elif airline_sentiment == 'negative':\n",
    "        return 0\n",
    "    else:\n",
    "        return 2\n",
    "\n",
    "df['airline_sentiment'] = df['airline_sentiment'].apply(airline_sentiment2label)\n",
    "\n",
    "# List of class names.\n",
    "class_names = ['negative', 'positive','neutral']"
   ]
  },
  {
   "cell_type": "markdown",
   "metadata": {},
   "source": [
    "### For Vectorization we are using XLNet Tokenizer\n",
    "- Xlnet Tokenizer returns **'input_ids'** and **'attention_mask'**"
   ]
  },
  {
   "cell_type": "code",
   "execution_count": 8,
   "metadata": {},
   "outputs": [],
   "source": [
    "tokenizer = XLNetTokenizer.from_pretrained('xlnet-base-cased')\n",
    "input_txt = \"Text data\""
   ]
  },
  {
   "cell_type": "code",
   "execution_count": 9,
   "metadata": {},
   "outputs": [],
   "source": [
    "encodings = tokenizer.encode_plus(input_txt,add_special_tokens=True, max_length=45, return_tensors='pt', return_token_type_ids=False, return_attention_mask=True, pad_to_max_length=True,padding=True)"
   ]
  },
  {
   "cell_type": "markdown",
   "metadata": {},
   "source": [
    "Show an example of `XLNet Tokenizer`"
   ]
  },
  {
   "cell_type": "code",
   "execution_count": 10,
   "metadata": {},
   "outputs": [],
   "source": [
    "from keras.preprocessing.sequence import pad_sequences\n",
    "\n",
    "input_txt = \"Input text goes here\"\n",
    "\n",
    "encodings = tokenizer.encode_plus(input_txt, add_special_tokens=True, max_length=16, return_tensors='pt', return_token_type_ids=False, return_attention_mask=True, pad_to_max_length=False,padding=True)\n",
    "\n",
    "attention_mask = pad_sequences(encodings['attention_mask'], maxlen=16, dtype=torch.Tensor ,truncating=\"post\",padding=\"post\")\n",
    "\n",
    "input_ids = pad_sequences(encodings['input_ids'], maxlen=16, dtype=torch.Tensor ,truncating=\"post\",padding=\"post\")"
   ]
  },
  {
   "cell_type": "markdown",
   "metadata": {},
   "source": [
    "Creating Class `TwitterDataset` for encodings"
   ]
  },
  {
   "cell_type": "code",
   "execution_count": 11,
   "metadata": {},
   "outputs": [],
   "source": [
    "class TwitterDataset(Dataset):\n",
    "\n",
    "    def __init__(self, reviews, targets, tokenizer, max_len):\n",
    "        self.reviews = reviews\n",
    "        self.targets = targets\n",
    "        self.tokenizer = tokenizer\n",
    "        self.max_len = max_len\n",
    "    \n",
    "    def __len__(self):\n",
    "        return len(self.reviews)\n",
    "    \n",
    "    def __getitem__(self, item):\n",
    "        review = str(self.reviews[item])\n",
    "        target = self.targets[item]\n",
    "\n",
    "        encoding = self.tokenizer.encode_plus(\n",
    "        review,\n",
    "        add_special_tokens=True,\n",
    "        max_length=self.max_len,\n",
    "        return_token_type_ids=False,\n",
    "        pad_to_max_length=False,\n",
    "        return_attention_mask=True,\n",
    "        return_tensors='pt',\n",
    "        truncation = True\n",
    "        )\n",
    "\n",
    "        input_ids = pad_sequences(encoding['input_ids'], maxlen=MAX_LEN, dtype=torch.Tensor ,truncating=\"post\",padding=\"post\")\n",
    "        input_ids = input_ids.astype(dtype = 'int64')\n",
    "        input_ids = torch.tensor(input_ids) \n",
    "\n",
    "        attention_mask = pad_sequences(encoding['attention_mask'], maxlen=MAX_LEN, dtype=torch.Tensor ,truncating=\"post\",padding=\"post\")\n",
    "        attention_mask = attention_mask.astype(dtype = 'int64')\n",
    "        attention_mask = torch.tensor(attention_mask)       \n",
    "\n",
    "        return {\n",
    "        'review_text': review,\n",
    "        'input_ids': input_ids,\n",
    "        'attention_mask': attention_mask.flatten(),\n",
    "        'targets': torch.tensor(target, dtype=torch.long)\n",
    "        }"
   ]
  },
  {
   "cell_type": "markdown",
   "metadata": {},
   "source": [
    " Spliting dataset in `train ,val, test` in ratio of 8:1:1"
   ]
  },
  {
   "cell_type": "code",
   "execution_count": 8,
   "metadata": {},
   "outputs": [],
   "source": [
    "df_train, df_val, df_test = np.split(df.sample(frac=1, random_state=37),[int(.8*len(df)), int(.9*len(df))])"
   ]
  },
  {
   "cell_type": "code",
   "execution_count": 9,
   "metadata": {},
   "outputs": [],
   "source": [
    "def create_data_loader(df, tokenizer, max_len, batch_size):\n",
    "  ds = TwitterDataset(\n",
    "    reviews=df.text.to_numpy(),\n",
    "    targets=df.airline_sentiment.to_numpy(),\n",
    "    tokenizer=tokenizer,\n",
    "    max_len=max_len\n",
    "  )\n",
    "\n",
    "  return DataLoader(\n",
    "    ds,\n",
    "    batch_size=batch_size,\n",
    "    num_workers=0,\n",
    "    drop_last = True\n",
    "  )"
   ]
  },
  {
   "cell_type": "markdown",
   "metadata": {},
   "source": [
    "Creating dataloader of `train, val ,test`"
   ]
  },
  {
   "cell_type": "code",
   "execution_count": 22,
   "metadata": {},
   "outputs": [],
   "source": [
    "BATCH_SIZE = 96\n",
    "\n",
    "MAX_LEN = 32\n",
    "\n",
    "train_data_loader = create_data_loader(df_train, tokenizer, MAX_LEN, BATCH_SIZE)\n",
    "\n",
    "val_data_loader = create_data_loader(df_val, tokenizer, MAX_LEN, BATCH_SIZE)\n",
    "\n",
    "test_data_loader = create_data_loader(df_test, tokenizer, MAX_LEN, BATCH_SIZE)"
   ]
  },
  {
   "cell_type": "code",
   "execution_count": 11,
   "metadata": {},
   "outputs": [],
   "source": [
    "torch.cuda.empty_cache()"
   ]
  },
  {
   "cell_type": "markdown",
   "metadata": {},
   "source": [
    "Setting the `configuration` of model"
   ]
  },
  {
   "cell_type": "code",
   "execution_count": 12,
   "metadata": {},
   "outputs": [],
   "source": [
    "from transformers import AutoConfig, XLNetForSequenceClassification"
   ]
  },
  {
   "cell_type": "code",
   "execution_count": 13,
   "metadata": {},
   "outputs": [],
   "source": [
    "config = AutoConfig.from_pretrained(\"xlnet-base-cased\",num_labels = 3,dropout = 0.1,n_layer = 5)"
   ]
  },
  {
   "cell_type": "code",
   "execution_count": 14,
   "metadata": {
    "collapsed": true
   },
   "outputs": [
    {
     "name": "stderr",
     "output_type": "stream",
     "text": [
      "Some weights of the model checkpoint at xlnet-base-cased were not used when initializing XLNetForSequenceClassification: ['lm_loss.weight', 'lm_loss.bias', 'transformer.layer.5.rel_attn.q', 'transformer.layer.5.rel_attn.k', 'transformer.layer.5.rel_attn.v', 'transformer.layer.5.rel_attn.o', 'transformer.layer.5.rel_attn.r', 'transformer.layer.5.rel_attn.r_r_bias', 'transformer.layer.5.rel_attn.r_s_bias', 'transformer.layer.5.rel_attn.r_w_bias', 'transformer.layer.5.rel_attn.seg_embed', 'transformer.layer.5.rel_attn.layer_norm.weight', 'transformer.layer.5.rel_attn.layer_norm.bias', 'transformer.layer.5.ff.layer_norm.weight', 'transformer.layer.5.ff.layer_norm.bias', 'transformer.layer.5.ff.layer_1.weight', 'transformer.layer.5.ff.layer_1.bias', 'transformer.layer.5.ff.layer_2.weight', 'transformer.layer.5.ff.layer_2.bias', 'transformer.layer.6.rel_attn.q', 'transformer.layer.6.rel_attn.k', 'transformer.layer.6.rel_attn.v', 'transformer.layer.6.rel_attn.o', 'transformer.layer.6.rel_attn.r', 'transformer.layer.6.rel_attn.r_r_bias', 'transformer.layer.6.rel_attn.r_s_bias', 'transformer.layer.6.rel_attn.r_w_bias', 'transformer.layer.6.rel_attn.seg_embed', 'transformer.layer.6.rel_attn.layer_norm.weight', 'transformer.layer.6.rel_attn.layer_norm.bias', 'transformer.layer.6.ff.layer_norm.weight', 'transformer.layer.6.ff.layer_norm.bias', 'transformer.layer.6.ff.layer_1.weight', 'transformer.layer.6.ff.layer_1.bias', 'transformer.layer.6.ff.layer_2.weight', 'transformer.layer.6.ff.layer_2.bias', 'transformer.layer.7.rel_attn.q', 'transformer.layer.7.rel_attn.k', 'transformer.layer.7.rel_attn.v', 'transformer.layer.7.rel_attn.o', 'transformer.layer.7.rel_attn.r', 'transformer.layer.7.rel_attn.r_r_bias', 'transformer.layer.7.rel_attn.r_s_bias', 'transformer.layer.7.rel_attn.r_w_bias', 'transformer.layer.7.rel_attn.seg_embed', 'transformer.layer.7.rel_attn.layer_norm.weight', 'transformer.layer.7.rel_attn.layer_norm.bias', 'transformer.layer.7.ff.layer_norm.weight', 'transformer.layer.7.ff.layer_norm.bias', 'transformer.layer.7.ff.layer_1.weight', 'transformer.layer.7.ff.layer_1.bias', 'transformer.layer.7.ff.layer_2.weight', 'transformer.layer.7.ff.layer_2.bias', 'transformer.layer.8.rel_attn.q', 'transformer.layer.8.rel_attn.k', 'transformer.layer.8.rel_attn.v', 'transformer.layer.8.rel_attn.o', 'transformer.layer.8.rel_attn.r', 'transformer.layer.8.rel_attn.r_r_bias', 'transformer.layer.8.rel_attn.r_s_bias', 'transformer.layer.8.rel_attn.r_w_bias', 'transformer.layer.8.rel_attn.seg_embed', 'transformer.layer.8.rel_attn.layer_norm.weight', 'transformer.layer.8.rel_attn.layer_norm.bias', 'transformer.layer.8.ff.layer_norm.weight', 'transformer.layer.8.ff.layer_norm.bias', 'transformer.layer.8.ff.layer_1.weight', 'transformer.layer.8.ff.layer_1.bias', 'transformer.layer.8.ff.layer_2.weight', 'transformer.layer.8.ff.layer_2.bias', 'transformer.layer.9.rel_attn.q', 'transformer.layer.9.rel_attn.k', 'transformer.layer.9.rel_attn.v', 'transformer.layer.9.rel_attn.o', 'transformer.layer.9.rel_attn.r', 'transformer.layer.9.rel_attn.r_r_bias', 'transformer.layer.9.rel_attn.r_s_bias', 'transformer.layer.9.rel_attn.r_w_bias', 'transformer.layer.9.rel_attn.seg_embed', 'transformer.layer.9.rel_attn.layer_norm.weight', 'transformer.layer.9.rel_attn.layer_norm.bias', 'transformer.layer.9.ff.layer_norm.weight', 'transformer.layer.9.ff.layer_norm.bias', 'transformer.layer.9.ff.layer_1.weight', 'transformer.layer.9.ff.layer_1.bias', 'transformer.layer.9.ff.layer_2.weight', 'transformer.layer.9.ff.layer_2.bias', 'transformer.layer.10.rel_attn.q', 'transformer.layer.10.rel_attn.k', 'transformer.layer.10.rel_attn.v', 'transformer.layer.10.rel_attn.o', 'transformer.layer.10.rel_attn.r', 'transformer.layer.10.rel_attn.r_r_bias', 'transformer.layer.10.rel_attn.r_s_bias', 'transformer.layer.10.rel_attn.r_w_bias', 'transformer.layer.10.rel_attn.seg_embed', 'transformer.layer.10.rel_attn.layer_norm.weight', 'transformer.layer.10.rel_attn.layer_norm.bias', 'transformer.layer.10.ff.layer_norm.weight', 'transformer.layer.10.ff.layer_norm.bias', 'transformer.layer.10.ff.layer_1.weight', 'transformer.layer.10.ff.layer_1.bias', 'transformer.layer.10.ff.layer_2.weight', 'transformer.layer.10.ff.layer_2.bias', 'transformer.layer.11.rel_attn.q', 'transformer.layer.11.rel_attn.k', 'transformer.layer.11.rel_attn.v', 'transformer.layer.11.rel_attn.o', 'transformer.layer.11.rel_attn.r', 'transformer.layer.11.rel_attn.r_r_bias', 'transformer.layer.11.rel_attn.r_s_bias', 'transformer.layer.11.rel_attn.r_w_bias', 'transformer.layer.11.rel_attn.seg_embed', 'transformer.layer.11.rel_attn.layer_norm.weight', 'transformer.layer.11.rel_attn.layer_norm.bias', 'transformer.layer.11.ff.layer_norm.weight', 'transformer.layer.11.ff.layer_norm.bias', 'transformer.layer.11.ff.layer_1.weight', 'transformer.layer.11.ff.layer_1.bias', 'transformer.layer.11.ff.layer_2.weight', 'transformer.layer.11.ff.layer_2.bias']\n",
      "- This IS expected if you are initializing XLNetForSequenceClassification from the checkpoint of a model trained on another task or with another architecture (e.g. initializing a BertForSequenceClassification model from a BertForPreTraining model).\n",
      "- This IS NOT expected if you are initializing XLNetForSequenceClassification from the checkpoint of a model that you expect to be exactly identical (initializing a BertForSequenceClassification model from a BertForSequenceClassification model).\n",
      "Some weights of XLNetForSequenceClassification were not initialized from the model checkpoint at xlnet-base-cased and are newly initialized: ['sequence_summary.summary.weight', 'sequence_summary.summary.bias', 'logits_proj.weight', 'logits_proj.bias']\n",
      "You should probably TRAIN this model on a down-stream task to be able to use it for predictions and inference.\n"
     ]
    }
   ],
   "source": [
    "from transformers import XLNetForSequenceClassification\n",
    "model = XLNetForSequenceClassification.from_pretrained('xlnet-base-cased',config = config,)# state_dict = torch.load('xlnet_model_1.bin')\n",
    "device = \"cuda:0\" if torch.cuda.is_available() else \"cpu\"\n",
    "# using gpu\n",
    "model = model.to(device)"
   ]
  },
  {
   "cell_type": "markdown",
   "metadata": {},
   "source": [
    "Using Adam `optimizer` and `Layer Normalization`"
   ]
  },
  {
   "cell_type": "code",
   "execution_count": 23,
   "metadata": {},
   "outputs": [],
   "source": [
    "EPOCHS = 5\n",
    "BATCH_SIZE = 96\n",
    "\n",
    "param_optimizer = list(model.named_parameters())\n",
    "no_decay = ['bias', 'LayerNorm.bias', 'LayerNorm.weight']\n",
    "optimizer_grouped_parameters = [\n",
    "                                {'params': [p for n, p in param_optimizer if not any(nd in n for nd in no_decay)], 'weight_decay': 0.01},\n",
    "                                {'params': [p for n, p in param_optimizer if any(nd in n for nd in no_decay)], 'weight_decay':0.0}\n",
    "]\n",
    "optimizer = AdamW(optimizer_grouped_parameters, lr=3e-5)\n",
    "\n",
    "total_steps = len(train_data_loader) * EPOCHS\n",
    "\n",
    "scheduler = get_linear_schedule_with_warmup(\n",
    "  optimizer,\n",
    "  num_warmup_steps=0,\n",
    "  num_training_steps=total_steps\n",
    ")"
   ]
  },
  {
   "cell_type": "code",
   "execution_count": 24,
   "metadata": {},
   "outputs": [],
   "source": [
    "from tqdm import tqdm"
   ]
  },
  {
   "cell_type": "code",
   "execution_count": 25,
   "metadata": {},
   "outputs": [],
   "source": [
    "from sklearn import metrics\n",
    "def train_epoch(model, data_loader, optimizer, device, scheduler, n_examples):\n",
    "    model = model.train()\n",
    "    losses = []\n",
    "    acc = 0\n",
    "    counter = 0\n",
    "  \n",
    "    for d in tqdm(data_loader):\n",
    "        input_ids = d[\"input_ids\"].reshape(96,32).to(device)\n",
    "        attention_mask = d[\"attention_mask\"].to(device)\n",
    "        targets = d[\"targets\"].to(device)\n",
    "        \n",
    "        outputs = model(input_ids=input_ids, token_type_ids=None, attention_mask=attention_mask, labels = targets)\n",
    "        loss = outputs[0]\n",
    "        logits = outputs[1]\n",
    "\n",
    "        # preds = preds.cpu().detach().numpy()\n",
    "        _, prediction = torch.max(outputs[1], dim=1)\n",
    "        targets = targets.cpu().detach().numpy()\n",
    "        prediction = prediction.cpu().detach().numpy()\n",
    "        accuracy = metrics.accuracy_score(targets, prediction)\n",
    "\n",
    "        acc += accuracy\n",
    "        losses.append(loss.item())\n",
    "        \n",
    "        loss.backward()\n",
    "\n",
    "        nn.utils.clip_grad_norm_(model.parameters(), max_norm=1.0)\n",
    "        optimizer.step()\n",
    "        scheduler.step()\n",
    "        optimizer.zero_grad()\n",
    "        counter = counter + 1\n",
    "        \n",
    "        del d,input_ids,attention_mask,targets\n",
    "        gc.collect\n",
    "\n",
    "    return acc / counter, np.mean(losses)"
   ]
  },
  {
   "cell_type": "code",
   "execution_count": 26,
   "metadata": {},
   "outputs": [],
   "source": [
    "def eval_model(model, data_loader, device, n_examples):\n",
    "    model = model.eval()\n",
    "    losses = []\n",
    "    acc = 0\n",
    "    counter = 0\n",
    "  \n",
    "    with torch.no_grad():\n",
    "        for d in tqdm(data_loader):\n",
    "            input_ids = d[\"input_ids\"].reshape(96,32).to(device)\n",
    "            attention_mask = d[\"attention_mask\"].to(device)\n",
    "            targets = d[\"targets\"].to(device)\n",
    "            \n",
    "            outputs = model(input_ids=input_ids, token_type_ids=None, attention_mask=attention_mask, labels = targets)\n",
    "            loss = outputs[0]\n",
    "            logits = outputs[1]\n",
    "\n",
    "            _, prediction = torch.max(outputs[1], dim=1)\n",
    "            targets = targets.cpu().detach().numpy()\n",
    "            prediction = prediction.cpu().detach().numpy()\n",
    "            accuracy = metrics.accuracy_score(targets, prediction)\n",
    "\n",
    "            acc += accuracy\n",
    "            losses.append(loss.item())\n",
    "            counter += 1\n",
    "            \n",
    "            del d,input_ids,attention_mask,targets\n",
    "            gc.collect()\n",
    "\n",
    "    return acc / counter, np.mean(losses)"
   ]
  },
  {
   "cell_type": "code",
   "execution_count": 29,
   "metadata": {},
   "outputs": [],
   "source": [
    "def test_model(model, data_loader, device, n_examples):\n",
    "    model = model.eval()\n",
    "    losses = []\n",
    "    acc = 0\n",
    "    counter = 0\n",
    "  \n",
    "    with torch.no_grad():\n",
    "        for d in tqdm(data_loader):\n",
    "            input_ids = d[\"input_ids\"].reshape(96,32).to(device)\n",
    "            attention_mask = d[\"attention_mask\"].to(device)\n",
    "            targets = d[\"targets\"].to(device)\n",
    "            \n",
    "            outputs = model(input_ids=input_ids, token_type_ids=None, attention_mask=attention_mask, labels = targets)\n",
    "            loss = outputs[0]\n",
    "            logits = outputs[1]\n",
    "\n",
    "            _, prediction = torch.max(outputs[1], dim=1)\n",
    "            targets = targets.cpu().detach().numpy()\n",
    "            prediction = prediction.cpu().detach().numpy()\n",
    "            accuracy = metrics.accuracy_score(targets, prediction)\n",
    "\n",
    "            acc += accuracy\n",
    "            losses.append(loss.item())\n",
    "            counter += 1\n",
    "            \n",
    "            del d,input_ids,attention_mask,targets\n",
    "            gc.collect()\n",
    "\n",
    "    return acc / counter, np.mean(losses)"
   ]
  },
  {
   "cell_type": "code",
   "execution_count": 27,
   "metadata": {},
   "outputs": [],
   "source": [
    "torch.cuda.empty_cache()"
   ]
  },
  {
   "cell_type": "markdown",
   "metadata": {},
   "source": [
    "Clearing Extra memory"
   ]
  },
  {
   "cell_type": "code",
   "execution_count": 20,
   "metadata": {},
   "outputs": [
    {
     "data": {
      "text/plain": [
       "632"
      ]
     },
     "execution_count": 20,
     "metadata": {},
     "output_type": "execute_result"
    }
   ],
   "source": [
    "import gc\n",
    "del df\n",
    "gc.collect()"
   ]
  },
  {
   "cell_type": "markdown",
   "metadata": {},
   "source": [
    "Training Starts"
   ]
  },
  {
   "cell_type": "code",
   "execution_count": 28,
   "metadata": {},
   "outputs": [
    {
     "name": "stderr",
     "output_type": "stream",
     "text": [
      "\r",
      "  0%|                                                                                          | 0/122 [00:00<?, ?it/s]"
     ]
    },
    {
     "name": "stdout",
     "output_type": "stream",
     "text": [
      "Epoch 1/5\n",
      "----------\n"
     ]
    },
    {
     "name": "stderr",
     "output_type": "stream",
     "text": [
      "100%|████████████████████████████████████████████████████████████████████████████████| 122/122 [01:24<00:00,  1.44it/s]\n",
      "  0%|                                                                                           | 0/15 [00:00<?, ?it/s]"
     ]
    },
    {
     "name": "stdout",
     "output_type": "stream",
     "text": [
      "Train loss 0.39767816003228795 Train accuracy 0.8498121584699452\n"
     ]
    },
    {
     "name": "stderr",
     "output_type": "stream",
     "text": [
      "100%|██████████████████████████████████████████████████████████████████████████████████| 15/15 [00:08<00:00,  1.85it/s]\n"
     ]
    },
    {
     "name": "stdout",
     "output_type": "stream",
     "text": [
      "Val loss 0.46716715494791666 Val accuracy 0.8222222222222223\n",
      "\n"
     ]
    },
    {
     "name": "stderr",
     "output_type": "stream",
     "text": [
      "\r",
      "  0%|                                                                                          | 0/122 [00:00<?, ?it/s]"
     ]
    },
    {
     "name": "stdout",
     "output_type": "stream",
     "text": [
      "Epoch 2/5\n",
      "----------\n"
     ]
    },
    {
     "name": "stderr",
     "output_type": "stream",
     "text": [
      "100%|████████████████████████████████████████████████████████████████████████████████| 122/122 [01:50<00:00,  1.10it/s]\n",
      "  0%|                                                                                           | 0/15 [00:00<?, ?it/s]"
     ]
    },
    {
     "name": "stdout",
     "output_type": "stream",
     "text": [
      "Train loss 0.31874658594854544 Train accuracy 0.8815744535519126\n"
     ]
    },
    {
     "name": "stderr",
     "output_type": "stream",
     "text": [
      "100%|██████████████████████████████████████████████████████████████████████████████████| 15/15 [00:09<00:00,  1.53it/s]\n"
     ]
    },
    {
     "name": "stdout",
     "output_type": "stream",
     "text": [
      "Val loss 0.4917773167292277 Val accuracy 0.8270833333333333\n",
      "\n"
     ]
    },
    {
     "name": "stderr",
     "output_type": "stream",
     "text": [
      "\r",
      "  0%|                                                                                          | 0/122 [00:00<?, ?it/s]"
     ]
    },
    {
     "name": "stdout",
     "output_type": "stream",
     "text": [
      "Epoch 3/5\n",
      "----------\n"
     ]
    },
    {
     "name": "stderr",
     "output_type": "stream",
     "text": [
      "100%|████████████████████████████████████████████████████████████████████████████████| 122/122 [02:07<00:00,  1.04s/it]\n",
      "  0%|                                                                                           | 0/15 [00:00<?, ?it/s]"
     ]
    },
    {
     "name": "stdout",
     "output_type": "stream",
     "text": [
      "Train loss 0.2560511788994562 Train accuracy 0.9106898907103821\n"
     ]
    },
    {
     "name": "stderr",
     "output_type": "stream",
     "text": [
      "100%|██████████████████████████████████████████████████████████████████████████████████| 15/15 [00:13<00:00,  1.09it/s]\n"
     ]
    },
    {
     "name": "stdout",
     "output_type": "stream",
     "text": [
      "Val loss 0.5266050318876903 Val accuracy 0.8277777777777776\n",
      "\n"
     ]
    },
    {
     "name": "stderr",
     "output_type": "stream",
     "text": [
      "\r",
      "  0%|                                                                                          | 0/122 [00:00<?, ?it/s]"
     ]
    },
    {
     "name": "stdout",
     "output_type": "stream",
     "text": [
      "Epoch 4/5\n",
      "----------\n"
     ]
    },
    {
     "name": "stderr",
     "output_type": "stream",
     "text": [
      "100%|████████████████████████████████████████████████████████████████████████████████| 122/122 [02:09<00:00,  1.06s/it]\n",
      "  0%|                                                                                           | 0/15 [00:00<?, ?it/s]"
     ]
    },
    {
     "name": "stdout",
     "output_type": "stream",
     "text": [
      "Train loss 0.20897197393608874 Train accuracy 0.9289617486338803\n"
     ]
    },
    {
     "name": "stderr",
     "output_type": "stream",
     "text": [
      "100%|██████████████████████████████████████████████████████████████████████████████████| 15/15 [00:10<00:00,  1.47it/s]\n"
     ]
    },
    {
     "name": "stdout",
     "output_type": "stream",
     "text": [
      "Val loss 0.5681064824263254 Val accuracy 0.8291666666666667\n",
      "\n"
     ]
    },
    {
     "name": "stderr",
     "output_type": "stream",
     "text": [
      "\r",
      "  0%|                                                                                          | 0/122 [00:00<?, ?it/s]"
     ]
    },
    {
     "name": "stdout",
     "output_type": "stream",
     "text": [
      "Epoch 5/5\n",
      "----------\n"
     ]
    },
    {
     "name": "stderr",
     "output_type": "stream",
     "text": [
      "100%|████████████████████████████████████████████████████████████████████████████████| 122/122 [02:33<00:00,  1.26s/it]\n",
      "  0%|                                                                                           | 0/15 [00:00<?, ?it/s]"
     ]
    },
    {
     "name": "stdout",
     "output_type": "stream",
     "text": [
      "Train loss 0.188405717158171 Train accuracy 0.9354508196721311\n"
     ]
    },
    {
     "name": "stderr",
     "output_type": "stream",
     "text": [
      "100%|██████████████████████████████████████████████████████████████████████████████████| 15/15 [00:15<00:00,  1.05s/it]"
     ]
    },
    {
     "name": "stdout",
     "output_type": "stream",
     "text": [
      "Val loss 0.5898240188757579 Val accuracy 0.8277777777777777\n",
      "\n"
     ]
    },
    {
     "name": "stderr",
     "output_type": "stream",
     "text": [
      "\n"
     ]
    }
   ],
   "source": [
    "def train():    \n",
    "    #%%time\n",
    "    history = defaultdict(list)\n",
    "    best_accuracy = 0\n",
    "\n",
    "    for epoch in range(EPOCHS):\n",
    "        print(f'Epoch {epoch + 1}/{EPOCHS}')\n",
    "        print('-' * 10)\n",
    "\n",
    "        train_acc, train_loss = train_epoch(\n",
    "            model,\n",
    "            train_data_loader,     \n",
    "            optimizer, \n",
    "            device, \n",
    "            scheduler, \n",
    "            len(df_train)\n",
    "        )\n",
    "\n",
    "        print(f'Train loss {train_loss} Train accuracy {train_acc}')\n",
    "\n",
    "        val_acc, val_loss = eval_model(\n",
    "            model,\n",
    "            val_data_loader, \n",
    "            device, \n",
    "            len(df_val)\n",
    "        )\n",
    "\n",
    "        print(f'Val loss {val_loss} Val accuracy {val_acc}')\n",
    "        print()\n",
    "\n",
    "        history['train_acc'].append(train_acc)\n",
    "        history['train_loss'].append(train_loss)\n",
    "        history['val_acc'].append(val_acc)\n",
    "        history['val_loss'].append(val_loss)\n",
    "\n",
    "        if val_acc > best_accuracy:\n",
    "            torch.save(model.state_dict(), 'xlnet_model_1.bin')\n",
    "            best_accuracy = val_acc\n",
    "\n",
    "            \n",
    "if __name__ == '__main__':\n",
    "    train()"
   ]
  },
  {
   "cell_type": "code",
   "execution_count": 31,
   "metadata": {},
   "outputs": [
    {
     "name": "stderr",
     "output_type": "stream",
     "text": [
      "100%|██████████████████████████████████████████████████████████████████████████████████| 15/15 [00:04<00:00,  3.27it/s]\n"
     ]
    }
   ],
   "source": [
    "test_acc, test_loss = test_model(model,test_data_loader, device, len(df_test))"
   ]
  },
  {
   "cell_type": "code",
   "execution_count": 32,
   "metadata": {},
   "outputs": [
    {
     "name": "stdout",
     "output_type": "stream",
     "text": [
      "test loss 0.5472951054573059 test accuracy 0.8263888888888888\n"
     ]
    }
   ],
   "source": [
    "print(f'test loss {test_loss} test accuracy {test_acc}')"
   ]
  },
  {
   "cell_type": "markdown",
   "metadata": {},
   "source": [
    "## XLnet with EDA"
   ]
  },
  {
   "cell_type": "markdown",
   "metadata": {},
   "source": [
    "Using this Repo for applying EDA https://github.com/jasonwei20/eda_nlp"
   ]
  },
  {
   "cell_type": "code",
   "execution_count": 68,
   "metadata": {},
   "outputs": [],
   "source": [
    "df[['airline_sentiment','text']].to_csv(r'tweets1.txt', header=None, index=None, sep='\\t', mode='w')"
   ]
  },
  {
   "cell_type": "code",
   "execution_count": 71,
   "metadata": {
    "scrolled": true
   },
   "outputs": [
    {
     "name": "stderr",
     "output_type": "stream",
     "text": [
      "[nltk_data] Downloading package wordnet to C:\\Users\\Tarun\n",
      "[nltk_data]     Makkar\\AppData\\Roaming\\nltk_data...\n",
      "[nltk_data]   Unzipping corpora\\wordnet.zip.\n"
     ]
    },
    {
     "data": {
      "text/plain": [
       "True"
      ]
     },
     "execution_count": 71,
     "metadata": {},
     "output_type": "execute_result"
    }
   ],
   "source": [
    "import nltk\n",
    "nltk.download('wordnet')"
   ]
  },
  {
   "cell_type": "markdown",
   "metadata": {},
   "source": [
    "Easy Data Augmentation\n",
    "--\n",
    "\n",
    "Easy data augmentation uses traditional and very simple data augmentation methods. EDA consists of **four simple operations that do a surprisingly good job** of preventing overfitting and helping train more robust models.\n",
    "\n",
    "\n",
    "* Synonym Replacement (SR): Randomly choose n words from the sentence that are not stop words. Replace each of these words with one of its synonyms chosen at random.\n",
    "* Random Insertion (RI): Find a random synonym of a random word in the sentence that is not a stop word. Insert that synonym into a random position in the sentence. Do this n times.\n",
    "* Random Swap (RS): Randomly choose two words in the sentence and swap their positions. Do this n times.\n",
    "* Random Deletion (RD): For each word in the sentence, randomly remove it with probability p.\n"
   ]
  },
  {
   "cell_type": "code",
   "execution_count": 13,
   "metadata": {},
   "outputs": [
    {
     "name": "stderr",
     "output_type": "stream",
     "text": [
      "C:\\Users\\Tarun Makkar\\Anaconda3\\envs\\keras-gpu\\lib\\site-packages\\nltk\\decorators.py:68: DeprecationWarning: `formatargspec` is deprecated since Python 3.5. Use `signature` and the `Signature` object directly\n",
      "  regargs, varargs, varkwargs, defaults, formatvalue=lambda value: \"\"\n"
     ]
    },
    {
     "name": "stdout",
     "output_type": "stream",
     "text": [
      "generated augmented sentences with eda for tweets1.txt to eda_tweets1.txt with num_aug=3\n"
     ]
    }
   ],
   "source": [
    "# Easy data augmentation techniques for text classification\n",
    "# Jason Wei and Kai Zou\n",
    "\n",
    "from eda_nlp.code.eda import *\n",
    "\n",
    "input = 'tweets1.txt'\n",
    "#the output file\n",
    "output = 'eda_'+input \n",
    "\n",
    "\n",
    "#number of augmented sentences to generate per original sentence\n",
    "num_aug = 3 #default\n",
    "\n",
    "#how much to replace each word by synonyms\n",
    "alpha_sr = 0.1#default\n",
    "\n",
    "\n",
    "#how much to insert new words that are synonyms\n",
    "alpha_ri = 0.1#default\n",
    "\n",
    "#how much to swap words\n",
    "alpha_rs = 0.1#default\n",
    "\n",
    "#how much to delete words\n",
    "alpha_rd = 0.1#default\n",
    "\n",
    "\n",
    "if alpha_sr == alpha_ri == alpha_rs == alpha_rd == 0:\n",
    "     ap.error('At least one alpha should be greater than zero')\n",
    "\n",
    "#generate more data with standard augmentation\n",
    "def gen_eda(train_orig, output_file, alpha_sr, alpha_ri, alpha_rs, alpha_rd, num_aug=9):\n",
    "\n",
    "    writer = open(output_file, 'w')\n",
    "    lines = open(train_orig, 'r').readlines()\n",
    "\n",
    "    for i, line in enumerate(lines):\n",
    "        parts = line[:-1].split('\\t')\n",
    "        label = parts[0]\n",
    "        sentence = parts[1]\n",
    "        aug_sentences = eda(sentence, alpha_sr=alpha_sr, alpha_ri=alpha_ri, alpha_rs=alpha_rs, p_rd=alpha_rd, num_aug=num_aug)\n",
    "        for aug_sentence in aug_sentences:\n",
    "            writer.write(label + \"\\t\" + aug_sentence + '\\n')\n",
    "\n",
    "    writer.close()\n",
    "    print(\"generated augmented sentences with eda for \" + train_orig + \" to \" + output_file + \" with num_aug=\" + str(num_aug))\n",
    "\n",
    "#main function\n",
    "if __name__ == \"__main__\":\n",
    "\n",
    "    #generate augmented sentences and output into a new file\n",
    "    gen_eda(input, output, alpha_sr=alpha_sr, alpha_ri=alpha_ri, alpha_rs=alpha_rs, alpha_rd=alpha_rd, num_aug=num_aug)"
   ]
  },
  {
   "cell_type": "markdown",
   "metadata": {},
   "source": [
    "Loading new file"
   ]
  },
  {
   "cell_type": "code",
   "execution_count": 16,
   "metadata": {
    "scrolled": true
   },
   "outputs": [],
   "source": [
    "df = pd.read_csv('eda_tweets1.txt',header=None,sep='\\t')"
   ]
  },
  {
   "cell_type": "markdown",
   "metadata": {},
   "source": [
    "Changing Column names "
   ]
  },
  {
   "cell_type": "code",
   "execution_count": 17,
   "metadata": {},
   "outputs": [],
   "source": [
    "df.columns = ['airline_sentiment','text']"
   ]
  },
  {
   "cell_type": "code",
   "execution_count": 18,
   "metadata": {},
   "outputs": [],
   "source": [
    "import re"
   ]
  },
  {
   "cell_type": "markdown",
   "metadata": {},
   "source": [
    "Data Cleaning"
   ]
  },
  {
   "cell_type": "code",
   "execution_count": 48,
   "metadata": {},
   "outputs": [],
   "source": [
    "path_to_data = \"Tweets.csv\"\n",
    "data = pd.read_csv(path_to_data)\n",
    "\n",
    "# Shuffle and Clip data\n",
    "#data = shuffle(data)\n",
    "\n",
    "# Function to clean text. Remove tagged entities, hyperlinks, emojis\n",
    "def clean_text(text):\n",
    "    text = text.lower()\n",
    "    text = re.sub(r\"@[A-Za-z0-9]+\", ' ', text)\n",
    "    text = re.sub(r\"https?://[A-Za-z0-9./]+\", ' ', text)\n",
    "    text = re.sub(r\"[^a-zA-z.!?'0-9]\", ' ', text)\n",
    "    text = re.sub('\\t', ' ',  text)\n",
    "    text = re.sub(r\" +\", ' ', text)\n",
    "    text = re.sub(r\"'\",'',text)\n",
    "    return text\n",
    " \n",
    "data['text'] = data['text'].apply(clean_text)\n",
    "\n",
    "# Function to convert labels to number.\n",
    "def airline_sentiment2label(airline_sentiment):\n",
    "    if airline_sentiment == \"positive\":\n",
    "        return 1\n",
    "    elif airline_sentiment == 'negative':\n",
    "        return 0\n",
    "    else:\n",
    "        return 2\n",
    "\n",
    "data['airline_sentiment'] = data['airline_sentiment'].apply(airline_sentiment2label)\n",
    "\n",
    "# List of class names.\n",
    "class_names = ['negative', 'positive','neutral']"
   ]
  },
  {
   "cell_type": "markdown",
   "metadata": {},
   "source": [
    "Showing EDA Examples\n",
    "--"
   ]
  },
  {
   "cell_type": "markdown",
   "metadata": {},
   "source": [
    "Creating function for showing augmented examples"
   ]
  },
  {
   "cell_type": "code",
   "execution_count": 52,
   "metadata": {},
   "outputs": [],
   "source": [
    "def showingEDAExamples(data,df,index):\n",
    "    print('Original Text')\n",
    "    print(data['text'][index])\n",
    "    print('*'*20)\n",
    "    print('Augmented Text')\n",
    "    print('*'*20)\n",
    "    for i in range(index*4,index*4 +4):\n",
    "        print(df['text'][i])\n",
    "        \n",
    "    print('\\n')"
   ]
  },
  {
   "cell_type": "code",
   "execution_count": 59,
   "metadata": {
    "scrolled": false
   },
   "outputs": [
    {
     "name": "stdout",
     "output_type": "stream",
     "text": [
      "Original Text\n",
      " did you know that suicide is the second leading cause of death among teens 10 24\n",
      "********************\n",
      "Augmented Text\n",
      "********************\n",
      "that you know did suicide is the second leading cause of death among teens\n",
      "did you know that suicide is the second leading cause of death among teenager\n",
      "did you know that suicide is the second leading cause of death teenager among teens\n",
      "did you know that suicide is the second leading cause of death among teens \n",
      "\n",
      "\n",
      "Original Text\n",
      " i lt 3 pretty graphics. so much better than minimal iconography. d\n",
      "********************\n",
      "Augmented Text\n",
      "********************\n",
      "i pretty graphics so much better than minimal iconography d\n",
      "i lt pretty computer graphic so much better than minimal iconography d\n",
      "i lt pretty graphics so much better a lot than minimal iconography d\n",
      "i lt pretty graphics so much better than minimal iconography d\n",
      "\n",
      "\n",
      "Original Text\n",
      " this is such a great deal! already thinking about my 2nd trip to amp i havent even gone on my 1st trip yet! p\n",
      "********************\n",
      "Augmented Text\n",
      "********************\n",
      "this is such great deal already thinking about my to amp i havent even gone on my st trip yet p\n",
      "this is such a great deal already thinking about my nd turn on to amp i havent even function on my st turn on yet p\n",
      "this is such a great deal already thinking about my get by live nd trip to amp i havent even gone on my st trip yet p\n",
      "this is such a great deal already thinking about my nd trip to amp i havent even gone on my st trip yet p\n",
      "\n",
      "\n",
      "Original Text\n",
      " im flying your fabulous seductive skies again! u take all the stress away from travel \n",
      "********************\n",
      "Augmented Text\n",
      "********************\n",
      "im flying your fabulous seductive skies again u over again take all the stress away from travel\n",
      "im flying your fab seductive skies again u take all the stress away from travel\n",
      "your flying im fabulous seductive skies again u take all the stress away from travel\n",
      "im flying your fabulous seductive skies again u take all the stress away from travel \n",
      "\n",
      "\n",
      "Original Text\n",
      " thanks!\n",
      "********************\n",
      "Augmented Text\n",
      "********************\n",
      "give thanks thanks\n",
      "thanks\n",
      "give thanks\n",
      "thanks \n",
      "\n",
      "\n",
      "Original Text\n",
      " sfo pdx schedule is still mia.\n",
      "********************\n",
      "Augmented Text\n",
      "********************\n",
      "sfo pdx schedule is tranquillise mia\n",
      "sfo pdx schedule mia still is\n",
      "sfo pdx schedule is docket still mia\n",
      "sfo pdx schedule is still mia \n",
      "\n",
      "\n",
      "Original Text\n",
      " so excited for my first cross country flight lax to mco ive heard nothing but great things about virgin america. 29daystogo\n",
      "********************\n",
      "Augmented Text\n",
      "********************\n",
      "so excited for my cross first country flight nothing to mco ive heard lax but great things about virgin america daystogo\n",
      "so excited for first cross country flight lax to ive heard nothing but great things about virgin america daystogo\n",
      "so excited for my first cross country flight lax to mco ive virtually heard nothing but great the states things about virgin america daystogo\n",
      "so excited for my first cross country flight lax to mco ive heard nothing but great things about virgin america daystogo\n",
      "\n",
      "\n",
      "Original Text\n",
      " i flew from nyc to sfo last week and couldnt fully sit in my seat due to two large gentleman on either side of me. help!\n",
      "********************\n",
      "Augmented Text\n",
      "********************\n",
      "i flew from nyc to sfo to week and couldnt fully sit in my large due last two seat gentleman on either side of me help\n",
      "flew from nyc to sfo last week and couldnt fully sit in my seat due to two large gentleman on either side of me help\n",
      "i flew from nyc to sfo last week and couldnt fully sit in my rump due to two large gentleman on either side of me service\n",
      "i flew from nyc to sfo last week and couldnt fully sit in my seat due to two large gentleman on either side of me help \n",
      "\n",
      "\n",
      "Original Text\n",
      "i flying . \n",
      "********************\n",
      "Augmented Text\n",
      "********************\n",
      "i flee\n",
      "i flying\n",
      "i aviate flying\n",
      "i flying \n",
      "\n",
      "\n",
      "Original Text\n",
      " you know what would be amazingly awesome? bos fll please!!!!!!! i want to fly with only you.\n",
      "********************\n",
      "Augmented Text\n",
      "********************\n",
      "you know what would be amazingly awing bos fll please i want to fly with only you\n",
      "you know what would be amazingly awesome bos fll please i want to fly with only\n",
      "you know what would be amazingly awesome bos fll please i want to you with only fly\n",
      "you know what would be amazingly awesome bos fll please i want to fly with only you \n",
      "\n",
      "\n",
      "Original Text\n",
      " why are your first fares in may over three times more than other carriers when all seats are available to select???\n",
      "********************\n",
      "Augmented Text\n",
      "********************\n",
      "why are your fares in may over three more than other carriers when all seats are available to\n",
      "why are your initiative transportation in may over three times more than other carriers when all seats are available to select\n",
      "why are your first fares in may over three times more wherefore than other carriers when all seats are available to select\n",
      "why are your first fares in may over three times more than other carriers when all seats are available to select \n",
      "\n",
      "\n",
      "Original Text\n",
      " i love this graphic. \n",
      "********************\n",
      "Augmented Text\n",
      "********************\n",
      "i love this honey graphic\n",
      "i make love this graphic\n",
      "i love this graphic\n",
      "i love this graphic \n",
      "\n",
      "\n",
      "Original Text\n",
      " i love the hipster innovation. you are a feel good brand.\n",
      "********************\n",
      "Augmented Text\n",
      "********************\n",
      "i love the hipster innovation you are a feel good denounce\n",
      "i brand the hipster innovation you are a feel good love\n",
      "i love the institution hipster innovation you are a feel good brand\n",
      "i love the hipster innovation you are a feel good brand \n",
      "\n",
      "\n",
      "Original Text\n",
      " will you be making bos gt las non stop permanently anytime soon?\n",
      "********************\n",
      "Augmented Text\n",
      "********************\n",
      "will you be making bos pelican state gt las non stop permanently anytime soon\n",
      "will be bos gt las non stop permanently anytime soon\n",
      "will you be making bos gt las non stop for good anytime soon\n",
      "will you be making bos gt las non stop permanently anytime soon \n",
      "\n",
      "\n",
      "Original Text\n",
      " you guys messed up my seating.. i reserved seating with my friends and you guys gave my seat away ... i want free internet\n",
      "********************\n",
      "Augmented Text\n",
      "********************\n",
      "you guys messed up my seating i reserved seating with my friends and you guys gave my seat induct away i want free internet\n",
      "you guys messed up my seating i reserved internet with gave friends and you guys my my seat away i want free seating\n",
      "you guys messed my seating i reserved seating with my friends and you guys my seat i want free internet\n",
      "you guys messed up my seating i reserved seating with my friends and you guys gave my seat away i want free internet\n",
      "\n",
      "\n"
     ]
    }
   ],
   "source": [
    "for i in range(10,25):\n",
    "    showingEDAExamples(data,df,i)"
   ]
  },
  {
   "cell_type": "code",
   "execution_count": 47,
   "metadata": {},
   "outputs": [
    {
     "data": {
      "text/plain": [
       "' i didn today... must mean i need to take another trip!'"
      ]
     },
     "execution_count": 47,
     "metadata": {},
     "output_type": "execute_result"
    }
   ],
   "source": [
    "data['text'][2]"
   ]
  },
  {
   "cell_type": "code",
   "execution_count": 49,
   "metadata": {},
   "outputs": [
    {
     "name": "stdout",
     "output_type": "stream",
     "text": [
      " i didnt today... must mean i need to take another trip!\n"
     ]
    },
    {
     "data": {
      "text/plain": [
       "'i didnt today must mean i need to take another trip'"
      ]
     },
     "execution_count": 49,
     "metadata": {},
     "output_type": "execute_result"
    }
   ],
   "source": [
    "print(data['text'][2])\n",
    "df['text'][8]"
   ]
  },
  {
   "cell_type": "markdown",
   "metadata": {},
   "source": [
    "Same process as above"
   ]
  },
  {
   "cell_type": "code",
   "execution_count": 46,
   "metadata": {},
   "outputs": [],
   "source": [
    "tokenizer = XLNetTokenizer.from_pretrained('xlnet-base-cased')"
   ]
  },
  {
   "cell_type": "code",
   "execution_count": 14,
   "metadata": {},
   "outputs": [],
   "source": [
    "class TwitterDataset(Dataset):\n",
    "\n",
    "    def __init__(self, reviews, targets, tokenizer, max_len):\n",
    "        self.reviews = reviews\n",
    "        self.targets = targets\n",
    "        self.tokenizer = tokenizer\n",
    "        self.max_len = max_len\n",
    "    \n",
    "    def __len__(self):\n",
    "        return len(self.reviews)\n",
    "    \n",
    "    def __getitem__(self, item):\n",
    "        review = str(self.reviews[item])\n",
    "        target = self.targets[item]\n",
    "\n",
    "        encoding = self.tokenizer.encode_plus(\n",
    "        review,\n",
    "        add_special_tokens=True,\n",
    "        max_length=self.max_len,\n",
    "        return_token_type_ids=False,\n",
    "        pad_to_max_length=False,\n",
    "        return_attention_mask=True,\n",
    "        return_tensors='pt',\n",
    "        truncation = True\n",
    "        )\n",
    "\n",
    "        input_ids = pad_sequences(encoding['input_ids'], maxlen=MAX_LEN, dtype=torch.Tensor ,truncating=\"post\",padding=\"post\")\n",
    "        input_ids = input_ids.astype(dtype = 'int64')\n",
    "        input_ids = torch.tensor(input_ids) \n",
    "\n",
    "        attention_mask = pad_sequences(encoding['attention_mask'], maxlen=MAX_LEN, dtype=torch.Tensor ,truncating=\"post\",padding=\"post\")\n",
    "        attention_mask = attention_mask.astype(dtype = 'int64')\n",
    "        attention_mask = torch.tensor(attention_mask)       \n",
    "\n",
    "        return {\n",
    "        'review_text': review,\n",
    "        'input_ids': input_ids,\n",
    "        'attention_mask': attention_mask.flatten(),\n",
    "        'targets': torch.tensor(target, dtype=torch.long)\n",
    "        }"
   ]
  },
  {
   "cell_type": "markdown",
   "metadata": {},
   "source": [
    "Splitting data into `train , val , test` in 8:1:1"
   ]
  },
  {
   "cell_type": "code",
   "execution_count": 48,
   "metadata": {},
   "outputs": [],
   "source": [
    "df_train, df_val, df_test = np.split(df.sample(frac=1, random_state=37),[int(.8*len(df)), int(.9*len(df))])"
   ]
  },
  {
   "cell_type": "code",
   "execution_count": 49,
   "metadata": {},
   "outputs": [],
   "source": [
    "def create_data_loader(df, tokenizer, max_len, batch_size):\n",
    "  ds = TwitterDataset(\n",
    "    reviews=df.text.to_numpy(),\n",
    "    targets=df.airline_sentiment.to_numpy(),\n",
    "    tokenizer=tokenizer,\n",
    "    max_len=max_len\n",
    "  )\n",
    "\n",
    "  return DataLoader(\n",
    "    ds,\n",
    "    batch_size=batch_size,\n",
    "    num_workers=0,\n",
    "    drop_last = True\n",
    "  )"
   ]
  },
  {
   "cell_type": "code",
   "execution_count": 50,
   "metadata": {},
   "outputs": [],
   "source": [
    "BATCH_SIZE = 96\n",
    "\n",
    "MAX_LEN = 32\n",
    "\n",
    "train_data_loader = create_data_loader(df_train, tokenizer, MAX_LEN, BATCH_SIZE)\n",
    "\n",
    "val_data_loader = create_data_loader(df_val, tokenizer, MAX_LEN, BATCH_SIZE)\n",
    "\n",
    "test_data_loader = create_data_loader(df_test, tokenizer, MAX_LEN, BATCH_SIZE)"
   ]
  },
  {
   "cell_type": "code",
   "execution_count": 51,
   "metadata": {},
   "outputs": [],
   "source": [
    "from transformers import AutoConfig"
   ]
  },
  {
   "cell_type": "code",
   "execution_count": 52,
   "metadata": {},
   "outputs": [],
   "source": [
    "config = AutoConfig.from_pretrained(\"xlnet-base-cased\",num_labels = 3,dropout = 0.1,n_layer = 5)"
   ]
  },
  {
   "cell_type": "code",
   "execution_count": 53,
   "metadata": {
    "collapsed": true
   },
   "outputs": [
    {
     "name": "stderr",
     "output_type": "stream",
     "text": [
      "Some weights of the model checkpoint at xlnet-base-cased were not used when initializing XLNetForSequenceClassification: ['lm_loss.weight', 'lm_loss.bias', 'transformer.layer.5.rel_attn.q', 'transformer.layer.5.rel_attn.k', 'transformer.layer.5.rel_attn.v', 'transformer.layer.5.rel_attn.o', 'transformer.layer.5.rel_attn.r', 'transformer.layer.5.rel_attn.r_r_bias', 'transformer.layer.5.rel_attn.r_s_bias', 'transformer.layer.5.rel_attn.r_w_bias', 'transformer.layer.5.rel_attn.seg_embed', 'transformer.layer.5.rel_attn.layer_norm.weight', 'transformer.layer.5.rel_attn.layer_norm.bias', 'transformer.layer.5.ff.layer_norm.weight', 'transformer.layer.5.ff.layer_norm.bias', 'transformer.layer.5.ff.layer_1.weight', 'transformer.layer.5.ff.layer_1.bias', 'transformer.layer.5.ff.layer_2.weight', 'transformer.layer.5.ff.layer_2.bias', 'transformer.layer.6.rel_attn.q', 'transformer.layer.6.rel_attn.k', 'transformer.layer.6.rel_attn.v', 'transformer.layer.6.rel_attn.o', 'transformer.layer.6.rel_attn.r', 'transformer.layer.6.rel_attn.r_r_bias', 'transformer.layer.6.rel_attn.r_s_bias', 'transformer.layer.6.rel_attn.r_w_bias', 'transformer.layer.6.rel_attn.seg_embed', 'transformer.layer.6.rel_attn.layer_norm.weight', 'transformer.layer.6.rel_attn.layer_norm.bias', 'transformer.layer.6.ff.layer_norm.weight', 'transformer.layer.6.ff.layer_norm.bias', 'transformer.layer.6.ff.layer_1.weight', 'transformer.layer.6.ff.layer_1.bias', 'transformer.layer.6.ff.layer_2.weight', 'transformer.layer.6.ff.layer_2.bias', 'transformer.layer.7.rel_attn.q', 'transformer.layer.7.rel_attn.k', 'transformer.layer.7.rel_attn.v', 'transformer.layer.7.rel_attn.o', 'transformer.layer.7.rel_attn.r', 'transformer.layer.7.rel_attn.r_r_bias', 'transformer.layer.7.rel_attn.r_s_bias', 'transformer.layer.7.rel_attn.r_w_bias', 'transformer.layer.7.rel_attn.seg_embed', 'transformer.layer.7.rel_attn.layer_norm.weight', 'transformer.layer.7.rel_attn.layer_norm.bias', 'transformer.layer.7.ff.layer_norm.weight', 'transformer.layer.7.ff.layer_norm.bias', 'transformer.layer.7.ff.layer_1.weight', 'transformer.layer.7.ff.layer_1.bias', 'transformer.layer.7.ff.layer_2.weight', 'transformer.layer.7.ff.layer_2.bias', 'transformer.layer.8.rel_attn.q', 'transformer.layer.8.rel_attn.k', 'transformer.layer.8.rel_attn.v', 'transformer.layer.8.rel_attn.o', 'transformer.layer.8.rel_attn.r', 'transformer.layer.8.rel_attn.r_r_bias', 'transformer.layer.8.rel_attn.r_s_bias', 'transformer.layer.8.rel_attn.r_w_bias', 'transformer.layer.8.rel_attn.seg_embed', 'transformer.layer.8.rel_attn.layer_norm.weight', 'transformer.layer.8.rel_attn.layer_norm.bias', 'transformer.layer.8.ff.layer_norm.weight', 'transformer.layer.8.ff.layer_norm.bias', 'transformer.layer.8.ff.layer_1.weight', 'transformer.layer.8.ff.layer_1.bias', 'transformer.layer.8.ff.layer_2.weight', 'transformer.layer.8.ff.layer_2.bias', 'transformer.layer.9.rel_attn.q', 'transformer.layer.9.rel_attn.k', 'transformer.layer.9.rel_attn.v', 'transformer.layer.9.rel_attn.o', 'transformer.layer.9.rel_attn.r', 'transformer.layer.9.rel_attn.r_r_bias', 'transformer.layer.9.rel_attn.r_s_bias', 'transformer.layer.9.rel_attn.r_w_bias', 'transformer.layer.9.rel_attn.seg_embed', 'transformer.layer.9.rel_attn.layer_norm.weight', 'transformer.layer.9.rel_attn.layer_norm.bias', 'transformer.layer.9.ff.layer_norm.weight', 'transformer.layer.9.ff.layer_norm.bias', 'transformer.layer.9.ff.layer_1.weight', 'transformer.layer.9.ff.layer_1.bias', 'transformer.layer.9.ff.layer_2.weight', 'transformer.layer.9.ff.layer_2.bias', 'transformer.layer.10.rel_attn.q', 'transformer.layer.10.rel_attn.k', 'transformer.layer.10.rel_attn.v', 'transformer.layer.10.rel_attn.o', 'transformer.layer.10.rel_attn.r', 'transformer.layer.10.rel_attn.r_r_bias', 'transformer.layer.10.rel_attn.r_s_bias', 'transformer.layer.10.rel_attn.r_w_bias', 'transformer.layer.10.rel_attn.seg_embed', 'transformer.layer.10.rel_attn.layer_norm.weight', 'transformer.layer.10.rel_attn.layer_norm.bias', 'transformer.layer.10.ff.layer_norm.weight', 'transformer.layer.10.ff.layer_norm.bias', 'transformer.layer.10.ff.layer_1.weight', 'transformer.layer.10.ff.layer_1.bias', 'transformer.layer.10.ff.layer_2.weight', 'transformer.layer.10.ff.layer_2.bias', 'transformer.layer.11.rel_attn.q', 'transformer.layer.11.rel_attn.k', 'transformer.layer.11.rel_attn.v', 'transformer.layer.11.rel_attn.o', 'transformer.layer.11.rel_attn.r', 'transformer.layer.11.rel_attn.r_r_bias', 'transformer.layer.11.rel_attn.r_s_bias', 'transformer.layer.11.rel_attn.r_w_bias', 'transformer.layer.11.rel_attn.seg_embed', 'transformer.layer.11.rel_attn.layer_norm.weight', 'transformer.layer.11.rel_attn.layer_norm.bias', 'transformer.layer.11.ff.layer_norm.weight', 'transformer.layer.11.ff.layer_norm.bias', 'transformer.layer.11.ff.layer_1.weight', 'transformer.layer.11.ff.layer_1.bias', 'transformer.layer.11.ff.layer_2.weight', 'transformer.layer.11.ff.layer_2.bias']\n",
      "- This IS expected if you are initializing XLNetForSequenceClassification from the checkpoint of a model trained on another task or with another architecture (e.g. initializing a BertForSequenceClassification model from a BertForPreTraining model).\n",
      "- This IS NOT expected if you are initializing XLNetForSequenceClassification from the checkpoint of a model that you expect to be exactly identical (initializing a BertForSequenceClassification model from a BertForSequenceClassification model).\n",
      "Some weights of XLNetForSequenceClassification were not initialized from the model checkpoint at xlnet-base-cased and are newly initialized: ['sequence_summary.summary.weight', 'sequence_summary.summary.bias', 'logits_proj.weight', 'logits_proj.bias']\n",
      "You should probably TRAIN this model on a down-stream task to be able to use it for predictions and inference.\n"
     ]
    }
   ],
   "source": [
    "from transformers import XLNetForSequenceClassification\n",
    "model = XLNetForSequenceClassification.from_pretrained('xlnet-base-cased',config = config,)# state_dict = torch.load('xlnet_model_1.bin')\n",
    "device = \"cuda:0\" if torch.cuda.is_available() else \"cpu\"\n",
    "#device = 'cpu'\n",
    "model = model.to(device)"
   ]
  },
  {
   "cell_type": "code",
   "execution_count": 54,
   "metadata": {},
   "outputs": [],
   "source": [
    "EPOCHS = 5\n",
    "BATCH_SIZE = 96\n",
    "\n",
    "param_optimizer = list(model.named_parameters())\n",
    "no_decay = ['bias', 'LayerNorm.bias', 'LayerNorm.weight']\n",
    "optimizer_grouped_parameters = [\n",
    "                                {'params': [p for n, p in param_optimizer if not any(nd in n for nd in no_decay)], 'weight_decay': 0.01},\n",
    "                                {'params': [p for n, p in param_optimizer if any(nd in n for nd in no_decay)], 'weight_decay':0.0}\n",
    "]\n",
    "optimizer = AdamW(optimizer_grouped_parameters, lr=3e-5)\n",
    "\n",
    "total_steps = len(train_data_loader) * EPOCHS\n",
    "\n",
    "scheduler = get_linear_schedule_with_warmup(\n",
    "  optimizer,\n",
    "  num_warmup_steps=0,\n",
    "  num_training_steps=total_steps\n",
    ")"
   ]
  },
  {
   "cell_type": "code",
   "execution_count": 55,
   "metadata": {},
   "outputs": [],
   "source": [
    "from tqdm import tqdm"
   ]
  },
  {
   "cell_type": "code",
   "execution_count": 56,
   "metadata": {},
   "outputs": [],
   "source": [
    "from sklearn import metrics\n",
    "def train_epoch(model, data_loader, optimizer, device, scheduler, n_examples):\n",
    "    model = model.train()\n",
    "    losses = []\n",
    "    acc = 0\n",
    "    counter = 0\n",
    "  \n",
    "    for d in tqdm(data_loader):\n",
    "        input_ids = d[\"input_ids\"].reshape(96,32).to(device)\n",
    "        attention_mask = d[\"attention_mask\"].to(device)\n",
    "        targets = d[\"targets\"].to(device)\n",
    "        \n",
    "        outputs = model(input_ids=input_ids, token_type_ids=None, attention_mask=attention_mask, labels = targets)\n",
    "        loss = outputs[0]\n",
    "        logits = outputs[1]\n",
    "\n",
    "        # preds = preds.cpu().detach().numpy()\n",
    "        _, prediction = torch.max(outputs[1], dim=1)\n",
    "        targets = targets.cpu().detach().numpy()\n",
    "        prediction = prediction.cpu().detach().numpy()\n",
    "        accuracy = metrics.accuracy_score(targets, prediction)\n",
    "\n",
    "        acc += accuracy\n",
    "        losses.append(loss.item())\n",
    "        \n",
    "        loss.backward()\n",
    "\n",
    "        nn.utils.clip_grad_norm_(model.parameters(), max_norm=1.0)\n",
    "        optimizer.step()\n",
    "        scheduler.step()\n",
    "        optimizer.zero_grad()\n",
    "        counter = counter + 1\n",
    "        \n",
    "        del d,input_ids,attention_mask,targets\n",
    "        gc.collect\n",
    "\n",
    "    return acc / counter, np.mean(losses)"
   ]
  },
  {
   "cell_type": "code",
   "execution_count": 57,
   "metadata": {},
   "outputs": [],
   "source": [
    "def eval_model(model, data_loader, device, n_examples):\n",
    "    model = model.eval()\n",
    "    losses = []\n",
    "    acc = 0\n",
    "    counter = 0\n",
    "  \n",
    "    with torch.no_grad():\n",
    "        for d in tqdm(data_loader):\n",
    "            input_ids = d[\"input_ids\"].reshape(96,32).to(device)\n",
    "            attention_mask = d[\"attention_mask\"].to(device)\n",
    "            targets = d[\"targets\"].to(device)\n",
    "            \n",
    "            outputs = model(input_ids=input_ids, token_type_ids=None, attention_mask=attention_mask, labels = targets)\n",
    "            loss = outputs[0]\n",
    "            logits = outputs[1]\n",
    "\n",
    "            _, prediction = torch.max(outputs[1], dim=1)\n",
    "            targets = targets.cpu().detach().numpy()\n",
    "            prediction = prediction.cpu().detach().numpy()\n",
    "            accuracy = metrics.accuracy_score(targets, prediction)\n",
    "\n",
    "            acc += accuracy\n",
    "            losses.append(loss.item())\n",
    "            counter += 1\n",
    "            \n",
    "            del d,input_ids,attention_mask,targets\n",
    "            gc.collect()\n",
    "\n",
    "    return acc / counter, np.mean(losses)"
   ]
  },
  {
   "cell_type": "code",
   "execution_count": 70,
   "metadata": {},
   "outputs": [],
   "source": [
    "def test_model(model, data_loader, device, n_examples):\n",
    "    model = model.eval()\n",
    "    losses = []\n",
    "    acc = 0\n",
    "    counter = 0\n",
    "  \n",
    "    with torch.no_grad():\n",
    "        for d in tqdm(data_loader):\n",
    "            input_ids = d[\"input_ids\"].reshape(96,32).to(device)\n",
    "            attention_mask = d[\"attention_mask\"].to(device)\n",
    "            targets = d[\"targets\"].to(device)\n",
    "            \n",
    "            outputs = model(input_ids=input_ids, token_type_ids=None, attention_mask=attention_mask, labels = targets)\n",
    "            loss = outputs[0]\n",
    "            logits = outputs[1]\n",
    "\n",
    "            _, prediction = torch.max(outputs[1], dim=1)\n",
    "            targets = targets.cpu().detach().numpy()\n",
    "            prediction = prediction.cpu().detach().numpy()\n",
    "            accuracy = metrics.accuracy_score(targets, prediction)\n",
    "\n",
    "            acc += accuracy\n",
    "            losses.append(loss.item())\n",
    "            counter += 1\n",
    "            \n",
    "            del d,input_ids,attention_mask,targets\n",
    "            gc.collect()\n",
    "\n",
    "    return acc / counter, np.mean(losses)"
   ]
  },
  {
   "cell_type": "code",
   "execution_count": 58,
   "metadata": {},
   "outputs": [
    {
     "data": {
      "text/plain": [
       "1605"
      ]
     },
     "execution_count": 58,
     "metadata": {},
     "output_type": "execute_result"
    }
   ],
   "source": [
    "import gc\n",
    "del df\n",
    "gc.collect()"
   ]
  },
  {
   "cell_type": "code",
   "execution_count": 59,
   "metadata": {},
   "outputs": [],
   "source": [
    "torch.cuda.empty_cache()"
   ]
  },
  {
   "cell_type": "code",
   "execution_count": 60,
   "metadata": {},
   "outputs": [
    {
     "name": "stderr",
     "output_type": "stream",
     "text": [
      "\r",
      "  0%|                                                                                          | 0/488 [00:00<?, ?it/s]"
     ]
    },
    {
     "name": "stdout",
     "output_type": "stream",
     "text": [
      "Epoch 1/5\n",
      "----------\n"
     ]
    },
    {
     "name": "stderr",
     "output_type": "stream",
     "text": [
      "100%|████████████████████████████████████████████████████████████████████████████████| 488/488 [05:44<00:00,  1.41it/s]\n",
      "  0%|                                                                                           | 0/61 [00:00<?, ?it/s]"
     ]
    },
    {
     "name": "stdout",
     "output_type": "stream",
     "text": [
      "Train loss 0.46946873024228164 Train accuracy 0.8161074112021854\n"
     ]
    },
    {
     "name": "stderr",
     "output_type": "stream",
     "text": [
      "100%|██████████████████████████████████████████████████████████████████████████████████| 61/61 [00:36<00:00,  1.68it/s]\n"
     ]
    },
    {
     "name": "stdout",
     "output_type": "stream",
     "text": [
      "Val loss 0.32307472116634495 Val accuracy 0.8792691256830599\n",
      "\n"
     ]
    },
    {
     "name": "stderr",
     "output_type": "stream",
     "text": [
      "\r",
      "  0%|                                                                                          | 0/488 [00:00<?, ?it/s]"
     ]
    },
    {
     "name": "stdout",
     "output_type": "stream",
     "text": [
      "Epoch 2/5\n",
      "----------\n"
     ]
    },
    {
     "name": "stderr",
     "output_type": "stream",
     "text": [
      "100%|████████████████████████████████████████████████████████████████████████████████| 488/488 [08:13<00:00,  1.01s/it]\n",
      "  0%|                                                                                           | 0/61 [00:00<?, ?it/s]"
     ]
    },
    {
     "name": "stdout",
     "output_type": "stream",
     "text": [
      "Train loss 0.28078379993494906 Train accuracy 0.8971354166666665\n"
     ]
    },
    {
     "name": "stderr",
     "output_type": "stream",
     "text": [
      "100%|██████████████████████████████████████████████████████████████████████████████████| 61/61 [00:46<00:00,  1.32it/s]\n"
     ]
    },
    {
     "name": "stdout",
     "output_type": "stream",
     "text": [
      "Val loss 0.22452295302856165 Val accuracy 0.9187158469945355\n",
      "\n"
     ]
    },
    {
     "name": "stderr",
     "output_type": "stream",
     "text": [
      "\r",
      "  0%|                                                                                          | 0/488 [00:00<?, ?it/s]"
     ]
    },
    {
     "name": "stdout",
     "output_type": "stream",
     "text": [
      "Epoch 3/5\n",
      "----------\n"
     ]
    },
    {
     "name": "stderr",
     "output_type": "stream",
     "text": [
      "100%|████████████████████████████████████████████████████████████████████████████████| 488/488 [08:45<00:00,  1.08s/it]\n",
      "  0%|                                                                                           | 0/61 [00:00<?, ?it/s]"
     ]
    },
    {
     "name": "stdout",
     "output_type": "stream",
     "text": [
      "Train loss 0.17205733604362752 Train accuracy 0.9397199453551907\n"
     ]
    },
    {
     "name": "stderr",
     "output_type": "stream",
     "text": [
      "100%|██████████████████████████████████████████████████████████████████████████████████| 61/61 [00:48<00:00,  1.26it/s]\n"
     ]
    },
    {
     "name": "stdout",
     "output_type": "stream",
     "text": [
      "Val loss 0.1739771264131929 Val accuracy 0.9419398907103823\n",
      "\n"
     ]
    },
    {
     "name": "stderr",
     "output_type": "stream",
     "text": [
      "\r",
      "  0%|                                                                                          | 0/488 [00:00<?, ?it/s]"
     ]
    },
    {
     "name": "stdout",
     "output_type": "stream",
     "text": [
      "Epoch 4/5\n",
      "----------\n"
     ]
    },
    {
     "name": "stderr",
     "output_type": "stream",
     "text": [
      "100%|████████████████████████████████████████████████████████████████████████████████| 488/488 [09:52<00:00,  1.21s/it]\n",
      "  0%|                                                                                           | 0/61 [00:00<?, ?it/s]"
     ]
    },
    {
     "name": "stdout",
     "output_type": "stream",
     "text": [
      "Train loss 0.1142140451330142 Train accuracy 0.9607453893442618\n"
     ]
    },
    {
     "name": "stderr",
     "output_type": "stream",
     "text": [
      "100%|██████████████████████████████████████████████████████████████████████████████████| 61/61 [00:44<00:00,  1.36it/s]\n"
     ]
    },
    {
     "name": "stdout",
     "output_type": "stream",
     "text": [
      "Val loss 0.14911614782863952 Val accuracy 0.9552595628415301\n",
      "\n"
     ]
    },
    {
     "name": "stderr",
     "output_type": "stream",
     "text": [
      "\r",
      "  0%|                                                                                          | 0/488 [00:00<?, ?it/s]"
     ]
    },
    {
     "name": "stdout",
     "output_type": "stream",
     "text": [
      "Epoch 5/5\n",
      "----------\n"
     ]
    },
    {
     "name": "stderr",
     "output_type": "stream",
     "text": [
      "100%|████████████████████████████████████████████████████████████████████████████████| 488/488 [10:01<00:00,  1.23s/it]\n",
      "  0%|                                                                                           | 0/61 [00:00<?, ?it/s]"
     ]
    },
    {
     "name": "stdout",
     "output_type": "stream",
     "text": [
      "Train loss 0.08469642494942566 Train accuracy 0.9708418715846988\n"
     ]
    },
    {
     "name": "stderr",
     "output_type": "stream",
     "text": [
      "100%|██████████████████████████████████████████████████████████████████████████████████| 61/61 [01:08<00:00,  1.12s/it]\n"
     ]
    },
    {
     "name": "stdout",
     "output_type": "stream",
     "text": [
      "Val loss 0.14780603275924434 Val accuracy 0.9573087431693988\n",
      "\n"
     ]
    }
   ],
   "source": [
    "def train():    \n",
    "    #%%time\n",
    "    history = defaultdict(list)\n",
    "    best_accuracy = 0\n",
    "\n",
    "    for epoch in range(EPOCHS):\n",
    "        print(f'Epoch {epoch + 1}/{EPOCHS}')\n",
    "        print('-' * 10)\n",
    "\n",
    "        train_acc, train_loss = train_epoch(\n",
    "            model,\n",
    "            train_data_loader,     \n",
    "            optimizer, \n",
    "            device, \n",
    "            scheduler, \n",
    "            len(df_train)\n",
    "        )\n",
    "\n",
    "        print(f'Train loss {train_loss} Train accuracy {train_acc}')\n",
    "\n",
    "        val_acc, val_loss = eval_model(\n",
    "            model,\n",
    "            val_data_loader, \n",
    "            device, \n",
    "            len(df_val)\n",
    "        )\n",
    "\n",
    "        print(f'Val loss {val_loss} Val accuracy {val_acc}')\n",
    "        print()\n",
    "\n",
    "        history['train_acc'].append(train_acc)\n",
    "        history['train_loss'].append(train_loss)\n",
    "        history['val_acc'].append(val_acc)\n",
    "        history['val_loss'].append(val_loss)\n",
    "\n",
    "        if val_acc > best_accuracy:\n",
    "            torch.save(model.state_dict(), 'xlnet_model_2.bin')\n",
    "            best_accuracy = val_acc\n",
    "\n",
    "            \n",
    "if __name__ == '__main__':\n",
    "    train()"
   ]
  },
  {
   "cell_type": "code",
   "execution_count": 71,
   "metadata": {},
   "outputs": [
    {
     "name": "stderr",
     "output_type": "stream",
     "text": [
      "100%|██████████████████████████████████████████████████████████████████████████████████| 61/61 [00:24<00:00,  2.52it/s]\n"
     ]
    }
   ],
   "source": [
    "test_acc, test_loss = test_model(model,test_data_loader, device, len(df_test))"
   ]
  },
  {
   "cell_type": "code",
   "execution_count": 72,
   "metadata": {},
   "outputs": [
    {
     "name": "stdout",
     "output_type": "stream",
     "text": [
      "test loss 0.14601656315145922 test accuracy 0.9581625683060111\n"
     ]
    }
   ],
   "source": [
    "print(f'test loss {test_loss} test accuracy {test_acc}')"
   ]
  },
  {
   "cell_type": "markdown",
   "metadata": {},
   "source": [
    "## Conclusion: WOW !\n",
    "* **Boom !** Achived 95.5 % accuracy \n",
    "* It's Highest accuracy on Kaggle Submissions also."
   ]
  },
  {
   "cell_type": "markdown",
   "metadata": {},
   "source": [
    "## References :\n",
    "* https://neptune.ai/blog/data-augmentation-nlp\n",
    "* https://www.kaggle.com/crowdflower/twitter-airline-sentiment/notebooks"
   ]
  }
 ],
 "metadata": {
  "kernelspec": {
   "display_name": "Python 3.7.3 64-bit ('keras-gpu': conda)",
   "language": "python",
   "name": "python37364bitkerasgpucondac15bbfaa9e7342f1a6aaed5bedd28ed1"
  },
  "language_info": {
   "codemirror_mode": {
    "name": "ipython",
    "version": 3
   },
   "file_extension": ".py",
   "mimetype": "text/x-python",
   "name": "python",
   "nbconvert_exporter": "python",
   "pygments_lexer": "ipython3",
   "version": "3.7.3"
  }
 },
 "nbformat": 4,
 "nbformat_minor": 1
}
